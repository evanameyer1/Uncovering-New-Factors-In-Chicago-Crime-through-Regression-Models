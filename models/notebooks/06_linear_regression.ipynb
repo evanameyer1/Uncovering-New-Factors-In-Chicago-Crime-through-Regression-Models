{
 "cells": [
  {
   "cell_type": "code",
   "execution_count": null,
   "metadata": {},
   "outputs": [],
   "source": [
    "import pandas as pd\n",
    "import numpy as np\n",
    "from datetime import datetime\n",
    "import matplotlib.pyplot as plt\n",
    "import seaborn as sns\n",
    "from statsmodels.stats.outliers_influence import variance_inflation_factor\n",
    "from sklearn.linear_model import LinearRegression\n",
    "from sklearn.metrics import mean_squared_error, mean_absolute_error, r2_score\n",
    "from mlxtend.feature_selection import SequentialFeatureSelector as SFS"
   ]
  },
  {
   "cell_type": "code",
   "execution_count": null,
   "metadata": {},
   "outputs": [],
   "source": [
    "area_pre_feature_selection = pd.read_csv('../../data/pre_training/area_pre_feature_selection.csv')\n",
    "district_pre_feature_selection = pd.read_csv('../../data/pre_training/district_pre_feature_selection.csv')"
   ]
  },
  {
   "cell_type": "code",
   "execution_count": null,
   "metadata": {},
   "outputs": [],
   "source": [
    "area_features = area_pre_feature_selection.drop('area_crimes_this_hour', axis=1)\n",
    "district_features = district_pre_feature_selection.drop('district_crimes_this_hour', axis=1)\n",
    "\n",
    "area_target = area_pre_feature_selection[['year', 'area_crimes_this_hour']]\n",
    "district_target = district_pre_feature_selection[['year', 'district_crimes_this_hour']]"
   ]
  },
  {
   "cell_type": "code",
   "execution_count": null,
   "metadata": {},
   "outputs": [],
   "source": [
    "# break the area dataset into testing and training datasets\n",
    "area_feature_training_data = area_features[area_features['year'] < 2020].reset_index(drop=True)\n",
    "area_feature_testing_data = area_features[area_features['year'] == 2020].reset_index(drop=True)\n",
    "\n",
    "area_target_training_data = area_target[area_target['year'] < 2020].reset_index(drop=True)\n",
    "area_target_testing_data = area_target[area_target['year'] == 2020].reset_index(drop=True)"
   ]
  },
  {
   "cell_type": "code",
   "execution_count": null,
   "metadata": {},
   "outputs": [],
   "source": [
    "# break the district dataset into testing and training datasets\n",
    "district_feature_training_data = district_features[district_features['year'] < 2020].reset_index(drop=True)\n",
    "district_feature_testing_data = district_features[district_features['year'] == 2020].reset_index(drop=True)\n",
    "\n",
    "district_target_training_data = district_target[district_target['year'] < 2020].reset_index(drop=True)\n",
    "district_target_testing_data = district_target[district_target['year'] == 2020].reset_index(drop=True)"
   ]
  },
  {
   "cell_type": "code",
   "execution_count": null,
   "metadata": {},
   "outputs": [],
   "source": [
    "area_target_training_data = area_target_training_data.drop('year', axis=1)\n",
    "area_target_testing_data = area_target_testing_data.drop('year', axis=1)\n",
    "district_target_training_data = district_target_training_data.drop('year', axis=1)\n",
    "district_target_testing_data = district_target_testing_data.drop('year', axis=1)"
   ]
  },
  {
   "cell_type": "markdown",
   "metadata": {},
   "source": [
    "##### Final Feature Engineering"
   ]
  },
  {
   "cell_type": "code",
   "execution_count": null,
   "metadata": {},
   "outputs": [],
   "source": [
    "lr_area_feature_training_data = area_feature_training_data.drop('date_hour', axis=1)\n",
    "lr_area_feature_testing_data = area_feature_testing_data.drop('date_hour', axis=1)\n",
    "\n",
    "lr_district_feature_training_data = district_feature_training_data.drop('date_hour', axis=1)\n",
    "lr_district_feature_testing_data = district_feature_testing_data.drop('date_hour', axis=1)"
   ]
  },
  {
   "cell_type": "code",
   "execution_count": null,
   "metadata": {},
   "outputs": [],
   "source": [
    "# target encoding of district/area columns\n",
    "area_means = area_pre_feature_selection.groupby('area_id')['area_crimes_this_hour'].mean()\n",
    "district_means = district_pre_feature_selection.groupby('district')['district_crimes_this_hour'].mean()\n",
    "\n",
    "lr_area_feature_training_data['area_id_target_encoded'] = lr_area_feature_training_data['area_id'].map(area_means)\n",
    "lr_area_feature_testing_data['area_id_target_encoded'] = lr_area_feature_testing_data['area_id'].map(area_means)\n",
    "\n",
    "lr_district_feature_training_data['district_target_encoded'] = lr_district_feature_training_data['district'].map(district_means)\n",
    "lr_district_feature_testing_data['district_target_encoded'] = lr_district_feature_testing_data['district'].map(district_means)"
   ]
  },
  {
   "cell_type": "code",
   "execution_count": null,
   "metadata": {},
   "outputs": [],
   "source": [
    "# frequency encoding of district/area columns\n",
    "area_freq = area_pre_feature_selection['area_id'].value_counts() / len(area_pre_feature_selection)\n",
    "district_freq = district_pre_feature_selection['district'].value_counts() / len(district_pre_feature_selection)\n",
    "\n",
    "lr_area_feature_training_data['area_id_freq_encoded'] = lr_area_feature_training_data['area_id'].map(area_freq)\n",
    "lr_area_feature_testing_data['area_id_freq_encoded'] = lr_area_feature_testing_data['area_id'].map(area_freq)\n",
    "\n",
    "lr_district_feature_training_data['district_freq_encoded'] = lr_district_feature_training_data['district'].map(district_freq)\n",
    "lr_district_feature_testing_data['district_freq_encoded'] = lr_district_feature_testing_data['district'].map(district_freq)"
   ]
  },
  {
   "cell_type": "code",
   "execution_count": null,
   "metadata": {},
   "outputs": [],
   "source": [
    "lr_area_feature_training_data.drop('area_id', axis=1, inplace=True)\n",
    "lr_area_feature_testing_data.drop('area_id', axis=1, inplace=True)\n",
    "\n",
    "lr_district_feature_training_data.drop('district', axis=1, inplace=True)\n",
    "lr_district_feature_testing_data.drop('district', axis=1, inplace=True)"
   ]
  },
  {
   "cell_type": "code",
   "execution_count": null,
   "metadata": {},
   "outputs": [],
   "source": [
    "def patch_datatypes(df):\n",
    "    float_cols = df.select_dtypes(include=['float64']).columns\n",
    "    df[float_cols] = df[float_cols].astype(np.float32)\n",
    "\n",
    "    int_cols = df.select_dtypes(include=['int64']).columns\n",
    "    df[int_cols] = df[int_cols].astype(np.int32)    \n",
    "      \n",
    "    return df"
   ]
  },
  {
   "cell_type": "code",
   "execution_count": null,
   "metadata": {},
   "outputs": [],
   "source": [
    "lr_area_feature_training_data = patch_datatypes(lr_area_feature_training_data)"
   ]
  },
  {
   "cell_type": "code",
   "execution_count": null,
   "metadata": {},
   "outputs": [],
   "source": [
    "lr_area_feature_testing_data = patch_datatypes(lr_area_feature_testing_data)"
   ]
  },
  {
   "cell_type": "code",
   "execution_count": null,
   "metadata": {},
   "outputs": [],
   "source": [
    "lr_district_feature_training_data = patch_datatypes(lr_district_feature_training_data)"
   ]
  },
  {
   "cell_type": "code",
   "execution_count": null,
   "metadata": {},
   "outputs": [],
   "source": [
    "lr_district_feature_testing_data = patch_datatypes(lr_district_feature_testing_data)"
   ]
  },
  {
   "cell_type": "code",
   "execution_count": null,
   "metadata": {},
   "outputs": [],
   "source": [
    "def generate_correlation_heatmap(df):\n",
    "    # Generate a mask to onlyshow the bottom triangle\n",
    "    mask = np.triu(np.ones_like(df.corr(), dtype=bool))\n",
    "\n",
    "    # generate heatmap\n",
    "    plt.figure(figsize=(70,70))\n",
    "    sns.heatmap(df.corr(), annot=True, mask=mask, vmin=-1, vmax=1)\n",
    "    plt.title('Correlation Coefficient Of Area Crime Predictors')\n",
    "    plt.show()"
   ]
  },
  {
   "cell_type": "code",
   "execution_count": null,
   "metadata": {},
   "outputs": [],
   "source": [
    "generate_correlation_heatmap(lr_area_feature_training_data)"
   ]
  },
  {
   "cell_type": "code",
   "execution_count": null,
   "metadata": {},
   "outputs": [],
   "source": [
    "generate_correlation_heatmap(lr_district_feature_training_data)"
   ]
  },
  {
   "cell_type": "markdown",
   "metadata": {},
   "source": [
    "##### Using VIF to Remove Multicollinearity"
   ]
  },
  {
   "cell_type": "code",
   "execution_count": null,
   "metadata": {},
   "outputs": [],
   "source": [
    "# Function to compute VIF for all features\n",
    "def compute_vif(feature_df):\n",
    "    print(f\"{datetime.now()} - Starting VIF computation\")\n",
    "    X = feature_df.copy()\n",
    "    # The calculation of variance inflation requires a constant\n",
    "    X['intercept'] = 1\n",
    "    \n",
    "    # Create dataframe to store VIF values\n",
    "    vif = pd.DataFrame()\n",
    "    vif[\"feature\"] = X.columns\n",
    "    vif[\"vif\"] = [variance_inflation_factor(X.values, i) for i in range(X.shape[1])]\n",
    "    vif = vif[vif['feature'] != 'intercept']\n",
    "    \n",
    "    print(f\"{datetime.now()} - Completed VIF computation\")\n",
    "    return vif"
   ]
  },
  {
   "cell_type": "code",
   "execution_count": null,
   "metadata": {},
   "outputs": [],
   "source": [
    "# Function to optimize VIF by dropping features with high VIF values\n",
    "def optimize_vif(feature_df, vif_threshold):\n",
    "    print(f\"{datetime.now()} - Starting VIF optimization\")\n",
    "    df = feature_df.copy()       \n",
    "\n",
    "    vif_df = compute_vif(feature_df)\n",
    "    \n",
    "    while (vif_df['vif'] >= vif_threshold).any():\n",
    "        print(f\"{datetime.now()} - Current VIF values:\\n{vif_df}\")\n",
    "        largest_vif_feature = vif_df.loc[vif_df['vif'].idxmax(), 'feature']\n",
    "        print(f\"{datetime.now()} - Dropping feature: {largest_vif_feature} with VIF score of: {vif_df['vif'].max()}\")\n",
    "        df = df.drop(columns=[largest_vif_feature])\n",
    "        vif_df = compute_vif(df)\n",
    "    \n",
    "    print(f\"{datetime.now()} - Completed VIF optimization\")\n",
    "    return vif_df"
   ]
  },
  {
   "cell_type": "code",
   "execution_count": null,
   "metadata": {},
   "outputs": [],
   "source": [
    "lr_area_selected_features_ten = optimize_vif(lr_area_feature_training_data, 10)"
   ]
  },
  {
   "cell_type": "code",
   "execution_count": null,
   "metadata": {},
   "outputs": [],
   "source": [
    "lr_district_selected_features_ten = optimize_vif(lr_district_feature_training_data, 10)"
   ]
  },
  {
   "cell_type": "code",
   "execution_count": null,
   "metadata": {},
   "outputs": [],
   "source": [
    "lr_area_selected_features_ten = pd.DataFrame([\n",
    "    \"day\",\n",
    "    \"hour\",\n",
    "    \"year\",\n",
    "    \"month\",\n",
    "    \"day_of_week\",\n",
    "    \"area_unemployment\",\n",
    "    \"area_per_capita_income\",\n",
    "    \"area_no_hs_dip\",\n",
    "    \"area_gov_depend\",\n",
    "    \"area_crowded_housing\",\n",
    "    \"area_below_pov\",\n",
    "    \"district\",\n",
    "    \"police_stations_distance_0.1\",\n",
    "    \"police_stations_distance_0.3\",\n",
    "    \"police_stations_distance_0.5\",\n",
    "    \"police_stations_distance_1\",\n",
    "    \"police_stations_distance_3\",\n",
    "    \"bike_stations_distance_0.1\",\n",
    "    \"bike_stations_distance_0.3\",\n",
    "    \"bike_stations_distance_0.5\",\n",
    "    \"bus_stops_distance_0.1\",\n",
    "    \"bus_stops_distance_0.3\",\n",
    "    \"train_stations_distance_0.1\",\n",
    "    \"train_stations_distance_0.3\",\n",
    "    \"train_stations_distance_0.5\",\n",
    "    \"train_stations_distance_1\",\n",
    "    \"train_stations_distance_5\",\n",
    "    \"alleylights_distance_0.1\",\n",
    "    \"alleylights_distance_0.3\",\n",
    "    \"alleylights_distance_0.5\",\n",
    "    \"alleylights_distance_3\",\n",
    "    \"streetlights_allout_distance_0.1\",\n",
    "    \"streetlights_allout_distance_0.3\",\n",
    "    \"streetlights_allout_distance_0.5\",\n",
    "    \"streetlights_allout_distance_1\",\n",
    "    \"streetlights_allout_distance_5\",\n",
    "    \"streetlights_oneout_distance_0.1\",\n",
    "    \"streetlights_oneout_distance_0.3\",\n",
    "    \"streetlights_oneout_distance_0.5\",\n",
    "    \"streetlights_oneout_distance_1\",\n",
    "    \"bike_rides_within_0.1_and_5_min\",\n",
    "    \"bike_rides_within_0.3_and_5_min\",\n",
    "    \"bike_rides_within_0.5_and_5_min\",\n",
    "    \"bike_rides_within_0.1_and_15_min\",\n",
    "    \"hourly_bike_rides\",\n",
    "    \"district_unemployment\",\n",
    "    \"district_per_capita_income\",\n",
    "    \"district_no_hs_dip\",\n",
    "    \"rides\",\n",
    "    \"district_crimes_1_hours_prev\",\n",
    "    \"district_crimes_3_hours_prev\",\n",
    "    \"area_crimes_1_hours_prev\",\n",
    "    \"area_crimes_3_hours_prev\",\n",
    "    \"area_id_target_encoded\",\n",
    "    \"area_id_freq_encoded\"\n",
    "], columns=['feature'])"
   ]
  },
  {
   "cell_type": "code",
   "execution_count": null,
   "metadata": {},
   "outputs": [],
   "source": [
    "lr_district_selected_features_ten = pd.DataFrame([\n",
    "    \"day\",\n",
    "    \"hour\",\n",
    "    \"year\",\n",
    "    \"month\",\n",
    "    \"day_of_week\",\n",
    "    \"area_per_capita_income\",\n",
    "    \"area_gov_depend\",\n",
    "    \"area_crowded_housing\",\n",
    "    \"area_below_pov\",\n",
    "    \"police_stations_distance_0.1\",\n",
    "    \"police_stations_distance_0.3\",\n",
    "    \"police_stations_distance_0.5\",\n",
    "    \"police_stations_distance_1\",\n",
    "    \"police_stations_distance_3\",\n",
    "    \"bike_stations_distance_0.1\",\n",
    "    \"bike_stations_distance_0.3\",\n",
    "    \"bus_stops_distance_0.1\",\n",
    "    \"bus_stops_distance_0.3\",\n",
    "    \"train_stations_distance_0.1\",\n",
    "    \"train_stations_distance_0.3\",\n",
    "    \"train_stations_distance_1\",\n",
    "    \"train_stations_distance_5\",\n",
    "    \"alleylights_distance_0.1\",\n",
    "    \"alleylights_distance_0.3\",\n",
    "    \"alleylights_distance_1\",\n",
    "    \"alleylights_distance_5\",\n",
    "    \"streetlights_allout_distance_0.1\",\n",
    "    \"streetlights_allout_distance_0.3\",\n",
    "    \"streetlights_allout_distance_0.5\",\n",
    "    \"streetlights_allout_distance_1\",\n",
    "    \"streetlights_allout_distance_5\",\n",
    "    \"streetlights_oneout_distance_0.1\",\n",
    "    \"streetlights_oneout_distance_0.3\",\n",
    "    \"streetlights_oneout_distance_0.5\",\n",
    "    \"streetlights_oneout_distance_3\",\n",
    "    \"bike_rides_within_0.1_and_5_min\",\n",
    "    \"bike_rides_within_0.3_and_5_min\",\n",
    "    \"bike_rides_within_0.5_and_5_min\",\n",
    "    \"bike_rides_within_0.1_and_15_min\",\n",
    "    \"hourly_bike_rides\",\n",
    "    \"district_per_capita_income\",\n",
    "    \"district_crowded_housing\",\n",
    "    \"disadvantaged_score\",\n",
    "    \"rides\",\n",
    "    \"district_crimes_1_hours_prev\",\n",
    "    \"district_crimes_3_hours_prev\",\n",
    "    \"district_crimes_6_hours_prev\",\n",
    "    \"area_crimes_1_hours_prev\",\n",
    "    \"area_crimes_3_hours_prev\",\n",
    "    \"district_target_encoded\",\n",
    "    \"district_freq_encoded\"\n",
    "], columns=['feature'])"
   ]
  },
  {
   "cell_type": "markdown",
   "metadata": {},
   "source": [
    "##### Using SFS for Feature Selection"
   ]
  },
  {
   "cell_type": "code",
   "execution_count": null,
   "metadata": {},
   "outputs": [],
   "source": [
    "area_model = LinearRegression()\n",
    "area_sfs = SFS(area_model, k_features='best', forward=True, floating=False, scoring='neg_mean_squared_error', cv=5, verbose=2)"
   ]
  },
  {
   "cell_type": "code",
   "execution_count": null,
   "metadata": {},
   "outputs": [],
   "source": [
    "lr_area_feature_training_data = lr_area_feature_training_data[list(lr_area_selected_features_ten['feature'].values)]"
   ]
  },
  {
   "cell_type": "code",
   "execution_count": null,
   "metadata": {},
   "outputs": [],
   "source": [
    "area_sfs.fit(lr_area_feature_training_data, area_target_training_data)"
   ]
  },
  {
   "cell_type": "code",
   "execution_count": null,
   "metadata": {},
   "outputs": [],
   "source": [
    "area_sfs = SFS(area_model, k_features=(9, 19), forward=True, floating=False, scoring='neg_mean_squared_error', cv=5, verbose=2)"
   ]
  },
  {
   "cell_type": "code",
   "execution_count": null,
   "metadata": {},
   "outputs": [],
   "source": [
    "area_sfs.fit(lr_area_feature_training_data, area_target_training_data)"
   ]
  },
  {
   "cell_type": "code",
   "execution_count": null,
   "metadata": {},
   "outputs": [],
   "source": [
    "district_model = LinearRegression()\n",
    "district_sfs = SFS(district_model, k_features='best', forward=True, floating=False, scoring='neg_mean_squared_error', cv=5, verbose=2)"
   ]
  },
  {
   "cell_type": "code",
   "execution_count": null,
   "metadata": {},
   "outputs": [],
   "source": [
    "lr_district_feature_training_data = lr_district_feature_training_data[list(lr_district_selected_features_ten['feature'].values)]"
   ]
  },
  {
   "cell_type": "code",
   "execution_count": null,
   "metadata": {},
   "outputs": [],
   "source": [
    "district_sfs.fit(lr_district_feature_training_data, district_target_training_data)"
   ]
  },
  {
   "cell_type": "markdown",
   "metadata": {},
   "source": [
    "##### Model Training"
   ]
  },
  {
   "cell_type": "code",
   "execution_count": null,
   "metadata": {},
   "outputs": [],
   "source": [
    "# Define the final area model\n",
    "area_selected_features = area_sfs.feature_names\n",
    "lr_area_feature_training_data = lr_area_feature_training_data[list(area_selected_features)]\n",
    "lr_area_feature_testing_data = lr_area_feature_testing_data[list(area_selected_features)]"
   ]
  },
  {
   "cell_type": "code",
   "execution_count": null,
   "metadata": {},
   "outputs": [],
   "source": [
    "# Define the final district model\n",
    "district_selected_features = district_sfs.feature_names\n",
    "lr_district_feature_training_data = lr_district_feature_training_data[list(district_selected_features)]\n",
    "lr_district_feature_testing_data = lr_district_feature_testing_data[list(district_selected_features)]"
   ]
  },
  {
   "cell_type": "code",
   "execution_count": null,
   "metadata": {},
   "outputs": [],
   "source": [
    "# Train the final area model\n",
    "area_final_lr_model = LinearRegression()\n",
    "area_final_lr_model.fit(lr_area_feature_training_data, area_target_training_data)"
   ]
  },
  {
   "cell_type": "code",
   "execution_count": null,
   "metadata": {},
   "outputs": [],
   "source": [
    "# Train the final district model\n",
    "district_final_lr_model = LinearRegression()\n",
    "district_final_lr_model.fit(lr_district_feature_training_data, district_target_training_data)"
   ]
  },
  {
   "cell_type": "markdown",
   "metadata": {},
   "source": [
    "##### Model Testing"
   ]
  },
  {
   "cell_type": "code",
   "execution_count": null,
   "metadata": {},
   "outputs": [],
   "source": [
    "# Predict using the area model\n",
    "area_predictions = area_final_lr_model.predict(lr_area_feature_testing_data)"
   ]
  },
  {
   "cell_type": "code",
   "execution_count": null,
   "metadata": {},
   "outputs": [],
   "source": [
    "# Calculate evaluation metrics for the area model\n",
    "area_mse = mean_squared_error(area_target_testing_data, area_predictions)\n",
    "area_rmse = np.sqrt(area_mse)\n",
    "area_mae = mean_absolute_error(area_target_testing_data, area_predictions)\n",
    "area_r2 = r2_score(area_target_testing_data, area_predictions)\n",
    "\n",
    "# Print evaluation metrics for the area model\n",
    "print(\"Area Model Performance Metrics:\")\n",
    "print(f\"Mean Squared Error (MSE): {area_mse}\")\n",
    "print(f\"Root Mean Squared Error (RMSE): {area_rmse}\")\n",
    "print(f\"Mean Absolute Error (MAE): {area_mae}\")\n",
    "print(f\"R^2 Score: {area_r2}\")"
   ]
  },
  {
   "cell_type": "code",
   "execution_count": null,
   "metadata": {},
   "outputs": [],
   "source": [
    "# Predict using the district model\n",
    "district_predictions = district_final_lr_model.predict(lr_district_feature_testing_data)"
   ]
  },
  {
   "cell_type": "code",
   "execution_count": null,
   "metadata": {},
   "outputs": [],
   "source": [
    "# Calculate evaluation metrics for the district model\n",
    "district_mse = mean_squared_error(district_target_testing_data, district_predictions)\n",
    "district_rmse = np.sqrt(district_mse)\n",
    "district_mae = mean_absolute_error(district_target_testing_data, district_predictions)\n",
    "district_r2 = r2_score(district_target_testing_data, district_predictions)\n",
    "\n",
    "# Print evaluation metrics for the district model\n",
    "print(\"District Model Performance Metrics:\")\n",
    "print(f\"Mean Squared Error (MSE): {district_mse}\")\n",
    "print(f\"Root Mean Squared Error (RMSE): {district_rmse}\")\n",
    "print(f\"Mean Absolute Error (MAE): {district_mae}\")\n",
    "print(f\"R^2 Score: {district_r2}\")"
   ]
  }
 ],
 "metadata": {
  "kernelspec": {
   "display_name": "Python 3 (ipykernel)",
   "language": "python",
   "name": "python3"
  }
 },
 "nbformat": 4,
 "nbformat_minor": 2
}
