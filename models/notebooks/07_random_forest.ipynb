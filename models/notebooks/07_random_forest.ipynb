{
 "cells": [
  {
   "cell_type": "code",
   "execution_count": 1,
   "metadata": {},
   "outputs": [],
   "source": [
    "import pandas as pd\n",
    "import numpy as np\n",
    "from sklearn.ensemble import RandomForestRegressor"
   ]
  },
  {
   "cell_type": "code",
   "execution_count": 2,
   "metadata": {},
   "outputs": [],
   "source": [
    "district_feature_training_data = pd.read_csv('../../data/models/linear_regression/lr_district_feature_training_data.csv')\n",
    "district_target_training_data = pd.read_csv('../../data/models/linear_regression/lr_district_target_training_data.csv')\n",
    "district_feature_testing_data = pd.read_csv('../../data/models/linear_regression/lr_district_feature_testing_data.csv')\n",
    "district_target_testing_data = pd.read_csv('../../data/models/linear_regression/lr_district_target_testing_data.csv')\n",
    "\n",
    "area_feature_training_data = pd.read_csv('../../data/models/linear_regression/lr_area_feature_training_data.csv')\n",
    "area_target_training_data = pd.read_csv('../../data/models/linear_regression/lr_area_target_training_data.csv')\n",
    "area_feature_testing_data = pd.read_csv('../../data/models/linear_regression/lr_area_feature_testing_data.csv')\n",
    "area_target_testing_data = pd.read_csv('../../data/models/linear_regression/lr_area_target_testing_data.csv')"
   ]
  },
  {
   "cell_type": "markdown",
   "metadata": {},
   "source": [
    "##### Area Model"
   ]
  },
  {
   "cell_type": "code",
   "execution_count": 3,
   "metadata": {},
   "outputs": [
    {
     "name": "stderr",
     "output_type": "stream",
     "text": [
      "C:\\Users\\evana\\AppData\\Local\\Temp\\ipykernel_26904\\411880867.py:2: DataConversionWarning: A column-vector y was passed when a 1d array was expected. Please change the shape of y to (n_samples,), for example using ravel().\n",
      "  area_model.fit(area_feature_training_data, area_target_training_data)\n",
      "[Parallel(n_jobs=1)]: Using backend SequentialBackend with 1 concurrent workers.\n"
     ]
    },
    {
     "name": "stdout",
     "output_type": "stream",
     "text": [
      "building tree 1 of 100\n"
     ]
    },
    {
     "name": "stderr",
     "output_type": "stream",
     "text": [
      "[Parallel(n_jobs=1)]: Done   1 out of   1 | elapsed:  1.9min remaining:    0.0s\n"
     ]
    },
    {
     "name": "stdout",
     "output_type": "stream",
     "text": [
      "building tree 2 of 100\n",
      "building tree 3 of 100\n",
      "building tree 4 of 100\n",
      "building tree 5 of 100\n",
      "building tree 6 of 100\n",
      "building tree 7 of 100\n",
      "building tree 8 of 100\n",
      "building tree 9 of 100\n",
      "building tree 10 of 100\n",
      "building tree 11 of 100\n",
      "building tree 12 of 100\n",
      "building tree 13 of 100\n",
      "building tree 14 of 100\n",
      "building tree 15 of 100\n",
      "building tree 16 of 100\n",
      "building tree 17 of 100\n",
      "building tree 18 of 100\n",
      "building tree 19 of 100\n",
      "building tree 20 of 100\n",
      "building tree 21 of 100\n",
      "building tree 22 of 100\n",
      "building tree 23 of 100\n",
      "building tree 24 of 100\n",
      "building tree 25 of 100\n",
      "building tree 26 of 100\n",
      "building tree 27 of 100\n",
      "building tree 28 of 100\n",
      "building tree 29 of 100\n",
      "building tree 30 of 100\n",
      "building tree 31 of 100\n",
      "building tree 32 of 100\n",
      "building tree 33 of 100\n",
      "building tree 34 of 100\n",
      "building tree 35 of 100\n",
      "building tree 36 of 100\n",
      "building tree 37 of 100\n",
      "building tree 38 of 100\n",
      "building tree 39 of 100\n",
      "building tree 40 of 100\n",
      "building tree 41 of 100\n",
      "building tree 42 of 100\n",
      "building tree 43 of 100\n",
      "building tree 44 of 100\n",
      "building tree 45 of 100\n",
      "building tree 46 of 100\n",
      "building tree 47 of 100\n",
      "building tree 48 of 100\n",
      "building tree 49 of 100\n",
      "building tree 50 of 100\n",
      "building tree 51 of 100\n",
      "building tree 52 of 100\n",
      "building tree 53 of 100\n",
      "building tree 54 of 100\n",
      "building tree 55 of 100\n",
      "building tree 56 of 100\n",
      "building tree 57 of 100\n",
      "building tree 58 of 100\n",
      "building tree 59 of 100\n",
      "building tree 60 of 100\n",
      "building tree 61 of 100\n",
      "building tree 62 of 100\n",
      "building tree 63 of 100\n",
      "building tree 64 of 100\n",
      "building tree 65 of 100\n",
      "building tree 66 of 100\n",
      "building tree 67 of 100\n",
      "building tree 68 of 100\n",
      "building tree 69 of 100\n",
      "building tree 70 of 100\n",
      "building tree 71 of 100\n",
      "building tree 72 of 100\n",
      "building tree 73 of 100\n",
      "building tree 74 of 100\n",
      "building tree 75 of 100\n",
      "building tree 76 of 100\n",
      "building tree 77 of 100\n",
      "building tree 78 of 100\n",
      "building tree 79 of 100\n",
      "building tree 80 of 100\n",
      "building tree 81 of 100\n",
      "building tree 82 of 100\n",
      "building tree 83 of 100\n",
      "building tree 84 of 100\n",
      "building tree 85 of 100\n",
      "building tree 86 of 100\n",
      "building tree 87 of 100\n",
      "building tree 88 of 100\n",
      "building tree 89 of 100\n",
      "building tree 90 of 100\n",
      "building tree 91 of 100\n",
      "building tree 92 of 100\n",
      "building tree 93 of 100\n",
      "building tree 94 of 100\n",
      "building tree 95 of 100\n",
      "building tree 96 of 100\n",
      "building tree 97 of 100\n",
      "building tree 98 of 100\n",
      "building tree 99 of 100\n",
      "building tree 100 of 100\n"
     ]
    },
    {
     "name": "stderr",
     "output_type": "stream",
     "text": [
      "[Parallel(n_jobs=1)]: Done 100 out of 100 | elapsed: 193.2min finished\n"
     ]
    },
    {
     "data": {
      "text/plain": [
       "RandomForestRegressor(verbose=2)"
      ]
     },
     "execution_count": 3,
     "metadata": {},
     "output_type": "execute_result"
    }
   ],
   "source": [
    "area_model = RandomForestRegressor(verbose=2)\n",
    "area_model.fit(area_feature_training_data, area_target_training_data)"
   ]
  },
  {
   "cell_type": "code",
   "execution_count": 19,
   "metadata": {},
   "outputs": [
    {
     "name": "stderr",
     "output_type": "stream",
     "text": [
      "[Parallel(n_jobs=1)]: Using backend SequentialBackend with 1 concurrent workers.\n",
      "[Parallel(n_jobs=1)]: Done   1 out of   1 | elapsed:    0.0s remaining:    0.0s\n"
     ]
    },
    {
     "name": "stdout",
     "output_type": "stream",
     "text": [
      "Accuracy before feature selection: 0.8867\n"
     ]
    },
    {
     "name": "stderr",
     "output_type": "stream",
     "text": [
      "[Parallel(n_jobs=1)]: Done 100 out of 100 | elapsed:   11.9s finished\n"
     ]
    }
   ],
   "source": [
    "area_acc_initial = area_model.score(area_feature_testing_data, area_target_testing_data)\n",
    "print(f'Accuracy before feature selection: {area_acc_initial:.4f}')"
   ]
  },
  {
   "cell_type": "code",
   "execution_count": 5,
   "metadata": {},
   "outputs": [],
   "source": [
    "area_importances = area_model.feature_importances_\n",
    "area_feature_names = area_feature_training_data.columns\n",
    "\n",
    "area_feature_importance_df = pd.DataFrame({'feature':area_feature_names, 'importance':area_importances})\n",
    "area_feature_importance_df.sort_values(by='importance', ascending=False, inplace=True)"
   ]
  },
  {
   "cell_type": "code",
   "execution_count": 21,
   "metadata": {},
   "outputs": [
    {
     "data": {
      "text/html": [
       "<div>\n",
       "<style scoped>\n",
       "    .dataframe tbody tr th:only-of-type {\n",
       "        vertical-align: middle;\n",
       "    }\n",
       "\n",
       "    .dataframe tbody tr th {\n",
       "        vertical-align: top;\n",
       "    }\n",
       "\n",
       "    .dataframe thead th {\n",
       "        text-align: right;\n",
       "    }\n",
       "</style>\n",
       "<table border=\"1\" class=\"dataframe\">\n",
       "  <thead>\n",
       "    <tr style=\"text-align: right;\">\n",
       "      <th></th>\n",
       "      <th>feature</th>\n",
       "      <th>importance</th>\n",
       "    </tr>\n",
       "  </thead>\n",
       "  <tbody>\n",
       "    <tr>\n",
       "      <th>62</th>\n",
       "      <td>district_crimes_this_hour</td>\n",
       "      <td>0.363273</td>\n",
       "    </tr>\n",
       "    <tr>\n",
       "      <th>37</th>\n",
       "      <td>alleylights_distance_0.1</td>\n",
       "      <td>0.211788</td>\n",
       "    </tr>\n",
       "    <tr>\n",
       "      <th>45</th>\n",
       "      <td>streetlights_allout_distance_0.5</td>\n",
       "      <td>0.081516</td>\n",
       "    </tr>\n",
       "    <tr>\n",
       "      <th>25</th>\n",
       "      <td>bus_stops_distance_0.1</td>\n",
       "      <td>0.069673</td>\n",
       "    </tr>\n",
       "    <tr>\n",
       "      <th>44</th>\n",
       "      <td>streetlights_allout_distance_0.3</td>\n",
       "      <td>0.042564</td>\n",
       "    </tr>\n",
       "    <tr>\n",
       "      <th>...</th>\n",
       "      <td>...</td>\n",
       "      <td>...</td>\n",
       "    </tr>\n",
       "    <tr>\n",
       "      <th>3</th>\n",
       "      <td>year</td>\n",
       "      <td>0.000563</td>\n",
       "    </tr>\n",
       "    <tr>\n",
       "      <th>9</th>\n",
       "      <td>gov_depend</td>\n",
       "      <td>0.000436</td>\n",
       "    </tr>\n",
       "    <tr>\n",
       "      <th>12</th>\n",
       "      <td>district</td>\n",
       "      <td>0.000267</td>\n",
       "    </tr>\n",
       "    <tr>\n",
       "      <th>13</th>\n",
       "      <td>police_stations_distance_0.1</td>\n",
       "      <td>0.000185</td>\n",
       "    </tr>\n",
       "    <tr>\n",
       "      <th>55</th>\n",
       "      <td>hourly_bike_rides</td>\n",
       "      <td>0.000133</td>\n",
       "    </tr>\n",
       "  </tbody>\n",
       "</table>\n",
       "<p>68 rows × 2 columns</p>\n",
       "</div>"
      ],
      "text/plain": [
       "                             feature  importance\n",
       "62         district_crimes_this_hour    0.363273\n",
       "37          alleylights_distance_0.1    0.211788\n",
       "45  streetlights_allout_distance_0.5    0.081516\n",
       "25            bus_stops_distance_0.1    0.069673\n",
       "44  streetlights_allout_distance_0.3    0.042564\n",
       "..                               ...         ...\n",
       "3                               year    0.000563\n",
       "9                         gov_depend    0.000436\n",
       "12                          district    0.000267\n",
       "13      police_stations_distance_0.1    0.000185\n",
       "55                 hourly_bike_rides    0.000133\n",
       "\n",
       "[68 rows x 2 columns]"
      ]
     },
     "execution_count": 21,
     "metadata": {},
     "output_type": "execute_result"
    }
   ],
   "source": [
    "area_feature_importance_df"
   ]
  },
  {
   "cell_type": "code",
   "execution_count": 13,
   "metadata": {},
   "outputs": [
    {
     "name": "stdout",
     "output_type": "stream",
     "text": [
      "district_crimes_this_hour - importance: 0.3632726658287014\n",
      "alleylights_distance_0.1 - importance: 0.21178819250288944\n",
      "streetlights_allout_distance_0.5 - importance: 0.08151636546694668\n",
      "bus_stops_distance_0.1 - importance: 0.06967315887242154\n",
      "streetlights_allout_distance_0.3 - importance: 0.042563954716359195\n",
      "streetlights_oneout_distance_0.1 - importance: 0.031912124474983296\n",
      "bike_stations_distance_0.1 - importance: 0.01316227802662861\n",
      "police_stations_distance_1 - importance: 0.01288541491737535\n",
      "streetlights_oneout_distance_0.3 - importance: 0.011214948832265037\n",
      "district_below_pov - importance: 0.00993446778296569\n",
      "district_per_capita_income - importance: 0.008175192301517399\n",
      "bus_stops_distance_0.5 - importance: 0.008020634898633063\n",
      "bus_stops_distance_3 - importance: 0.007769527030654778\n",
      "district_no_hs_dip - importance: 0.007433355211030101\n",
      "area_id - importance: 0.007068338106239051\n",
      "district_crowded_housing - importance: 0.006933413914074011\n",
      "police_stations_distance_3 - importance: 0.006424042945080572\n",
      "train_stations_distance_0.3 - importance: 0.006168320371251674\n",
      "bike_stations_distance_0.3 - importance: 0.0061457825739407055\n",
      "unemployment - importance: 0.005301809857154502\n",
      "train_stations_distance_0.5 - importance: 0.0044866496277372854\n",
      "police_stations_distance_5 - importance: 0.004004558901441619\n",
      "bus_stops_distance_1 - importance: 0.003549494436323422\n",
      "streetlights_allout_distance_1 - importance: 0.0031439464472684834\n",
      "police_stations_distance_0.5 - importance: 0.0028157165069791026\n",
      "district_gov_depend - importance: 0.0026730029524966335\n",
      "train_stations_distance_1 - importance: 0.002514160729409347\n",
      "alleylights_distance_5 - importance: 0.00245565792316088\n",
      "streetlights_allout_distance_0.1 - importance: 0.0022651351770946035\n",
      "hour - importance: 0.002259933967689892\n",
      "streetlights_oneout_distance_5 - importance: 0.00217501686287046\n",
      "district_unemployment - importance: 0.002101913200241918\n",
      "alleylights_distance_3 - importance: 0.002095510863956327\n",
      "bus_stops_distance_5 - importance: 0.002085599122869229\n",
      "crimes_24_hours_prev - importance: 0.002074563432176558\n",
      "alleylights_distance_0.3 - importance: 0.002062843561221287\n",
      "streetlights_allout_distance_5 - importance: 0.0019735049845468347\n",
      "bike_stations_distance_1 - importance: 0.001934721793694297\n",
      "crimes_6_hours_prev - importance: 0.0019261889183655272\n",
      "streetlights_oneout_distance_3 - importance: 0.001907642240806047\n",
      "streetlights_oneout_distance_0.5 - importance: 0.0018870708032748184\n",
      "bus_stops_distance_0.3 - importance: 0.00184444429005643\n",
      "day - importance: 0.0018222157272141293\n",
      "streetlights_allout_distance_3 - importance: 0.0018212799054827802\n",
      "crimes_12_hours_prev - importance: 0.0017279221642837713\n",
      "bike_stations_distance_3 - importance: 0.0016626101093598635\n",
      "alleylights_distance_1 - importance: 0.001586738267085316\n",
      "crimes_3_hours_prev - importance: 0.0015134820589787952\n",
      "streetlights_oneout_distance_1 - importance: 0.0014721231489018816\n",
      "bike_stations_distance_0.5 - importance: 0.001421462588877301\n",
      "train_stations_distance_5 - importance: 0.0013876486334435418\n",
      "train_stations_distance_3 - importance: 0.0013714077965081286\n",
      "alleylights_distance_0.5 - importance: 0.0013342207610626449\n",
      "bike_stations_distance_5 - importance: 0.0013180555662564563\n",
      "month - importance: 0.0012317463958011867\n",
      "crimes_1_hours_prev - importance: 0.0011631887107312316\n",
      "police_stations_distance_0.3 - importance: 0.001083399831556601\n",
      "no_hs_dip - importance: 0.000976047508484475\n",
      "day_of_week - importance: 0.0009121583657161086\n",
      "train_stations_distance_0.1 - importance: 0.0008994368145504112\n",
      "per_capita_income - importance: 0.0008729943238528503\n",
      "crowded_housing - importance: 0.0006650436202212129\n",
      "below_pov - importance: 0.0005713681525431372\n",
      "year - importance: 0.0005629360359875596\n",
      "gov_depend - importance: 0.00043600778396593625\n",
      "district - importance: 0.00026653398261530917\n",
      "police_stations_distance_0.1 - importance: 0.00018523192591977982\n",
      "hourly_bike_rides - importance: 0.000133474445806618\n"
     ]
    }
   ],
   "source": [
    "for idx, row in area_feature_importance_df.iterrows():\n",
    "    print(row['feature'], '- importance:', row['importance'])"
   ]
  },
  {
   "cell_type": "code",
   "execution_count": 17,
   "metadata": {},
   "outputs": [],
   "source": [
    "area_cumulative_importance = np.cumsum(area_feature_importance_df['importance'])\n",
    "area_threshold = 0.95\n",
    "area_selected_features = area_feature_importance_df['feature'][area_cumulative_importance <= area_threshold]\n",
    "\n",
    "area_feature_training_data_selected = area_feature_training_data[area_selected_features]\n",
    "area_feature_testing_data_selected = area_feature_testing_data[area_selected_features]"
   ]
  },
  {
   "cell_type": "code",
   "execution_count": 14,
   "metadata": {},
   "outputs": [
    {
     "data": {
      "text/plain": [
       "62           district_crimes_this_hour\n",
       "37            alleylights_distance_0.1\n",
       "45    streetlights_allout_distance_0.5\n",
       "25              bus_stops_distance_0.1\n",
       "44    streetlights_allout_distance_0.3\n",
       "49    streetlights_oneout_distance_0.1\n",
       "19          bike_stations_distance_0.1\n",
       "16          police_stations_distance_1\n",
       "50    streetlights_oneout_distance_0.3\n",
       "61                  district_below_pov\n",
       "57          district_per_capita_income\n",
       "27              bus_stops_distance_0.5\n",
       "29                bus_stops_distance_3\n",
       "58                  district_no_hs_dip\n",
       "0                              area_id\n",
       "60            district_crowded_housing\n",
       "17          police_stations_distance_3\n",
       "32         train_stations_distance_0.3\n",
       "20          bike_stations_distance_0.3\n",
       "6                         unemployment\n",
       "33         train_stations_distance_0.5\n",
       "18          police_stations_distance_5\n",
       "28                bus_stops_distance_1\n",
       "46      streetlights_allout_distance_1\n",
       "15        police_stations_distance_0.5\n",
       "59                 district_gov_depend\n",
       "34           train_stations_distance_1\n",
       "42              alleylights_distance_5\n",
       "43    streetlights_allout_distance_0.1\n",
       "2                                 hour\n",
       "54      streetlights_oneout_distance_5\n",
       "Name: feature, dtype: object"
      ]
     },
     "execution_count": 14,
     "metadata": {},
     "output_type": "execute_result"
    }
   ],
   "source": [
    "area_selected_features"
   ]
  },
  {
   "cell_type": "code",
   "execution_count": 7,
   "metadata": {},
   "outputs": [
    {
     "name": "stderr",
     "output_type": "stream",
     "text": [
      "C:\\Users\\evana\\AppData\\Local\\Temp\\ipykernel_26904\\1802067791.py:2: DataConversionWarning: A column-vector y was passed when a 1d array was expected. Please change the shape of y to (n_samples,), for example using ravel().\n",
      "  area_model_selected.fit(area_feature_training_data_selected, area_target_training_data)\n",
      "[Parallel(n_jobs=1)]: Using backend SequentialBackend with 1 concurrent workers.\n"
     ]
    },
    {
     "name": "stdout",
     "output_type": "stream",
     "text": [
      "building tree 1 of 100\n"
     ]
    },
    {
     "name": "stderr",
     "output_type": "stream",
     "text": [
      "[Parallel(n_jobs=1)]: Done   1 out of   1 | elapsed:   41.0s remaining:    0.0s\n"
     ]
    },
    {
     "name": "stdout",
     "output_type": "stream",
     "text": [
      "building tree 2 of 100\n",
      "building tree 3 of 100\n",
      "building tree 4 of 100\n",
      "building tree 5 of 100\n",
      "building tree 6 of 100\n",
      "building tree 7 of 100\n",
      "building tree 8 of 100\n",
      "building tree 9 of 100\n",
      "building tree 10 of 100\n",
      "building tree 11 of 100\n",
      "building tree 12 of 100\n",
      "building tree 13 of 100\n",
      "building tree 14 of 100\n",
      "building tree 15 of 100\n",
      "building tree 16 of 100\n",
      "building tree 17 of 100\n",
      "building tree 18 of 100\n",
      "building tree 19 of 100\n",
      "building tree 20 of 100\n",
      "building tree 21 of 100\n",
      "building tree 22 of 100\n",
      "building tree 23 of 100\n",
      "building tree 24 of 100\n",
      "building tree 25 of 100\n",
      "building tree 26 of 100\n",
      "building tree 27 of 100\n",
      "building tree 28 of 100\n",
      "building tree 29 of 100\n",
      "building tree 30 of 100\n",
      "building tree 31 of 100\n",
      "building tree 32 of 100\n",
      "building tree 33 of 100\n",
      "building tree 34 of 100\n",
      "building tree 35 of 100\n",
      "building tree 36 of 100\n",
      "building tree 37 of 100\n",
      "building tree 38 of 100\n",
      "building tree 39 of 100\n",
      "building tree 40 of 100\n",
      "building tree 41 of 100\n",
      "building tree 42 of 100\n",
      "building tree 43 of 100\n",
      "building tree 44 of 100\n",
      "building tree 45 of 100\n",
      "building tree 46 of 100\n",
      "building tree 47 of 100\n",
      "building tree 48 of 100\n",
      "building tree 49 of 100\n",
      "building tree 50 of 100\n",
      "building tree 51 of 100\n",
      "building tree 52 of 100\n",
      "building tree 53 of 100\n",
      "building tree 54 of 100\n",
      "building tree 55 of 100\n",
      "building tree 56 of 100\n",
      "building tree 57 of 100\n",
      "building tree 58 of 100\n",
      "building tree 59 of 100\n",
      "building tree 60 of 100\n",
      "building tree 61 of 100\n",
      "building tree 62 of 100\n",
      "building tree 63 of 100\n",
      "building tree 64 of 100\n",
      "building tree 65 of 100\n",
      "building tree 66 of 100\n",
      "building tree 67 of 100\n",
      "building tree 68 of 100\n",
      "building tree 69 of 100\n",
      "building tree 70 of 100\n",
      "building tree 71 of 100\n",
      "building tree 72 of 100\n",
      "building tree 73 of 100\n",
      "building tree 74 of 100\n",
      "building tree 75 of 100\n",
      "building tree 76 of 100\n",
      "building tree 77 of 100\n",
      "building tree 78 of 100\n",
      "building tree 79 of 100\n",
      "building tree 80 of 100\n",
      "building tree 81 of 100\n",
      "building tree 82 of 100\n",
      "building tree 83 of 100\n",
      "building tree 84 of 100\n",
      "building tree 85 of 100\n",
      "building tree 86 of 100\n",
      "building tree 87 of 100\n",
      "building tree 88 of 100\n",
      "building tree 89 of 100\n",
      "building tree 90 of 100\n",
      "building tree 91 of 100\n",
      "building tree 92 of 100\n",
      "building tree 93 of 100\n",
      "building tree 94 of 100\n",
      "building tree 95 of 100\n",
      "building tree 96 of 100\n",
      "building tree 97 of 100\n",
      "building tree 98 of 100\n",
      "building tree 99 of 100\n",
      "building tree 100 of 100\n"
     ]
    },
    {
     "name": "stderr",
     "output_type": "stream",
     "text": [
      "[Parallel(n_jobs=1)]: Done 100 out of 100 | elapsed: 68.3min finished\n"
     ]
    },
    {
     "data": {
      "text/plain": [
       "RandomForestRegressor(verbose=2)"
      ]
     },
     "execution_count": 7,
     "metadata": {},
     "output_type": "execute_result"
    }
   ],
   "source": [
    "area_model_selected = RandomForestRegressor(verbose=2)\n",
    "area_model_selected.fit(area_feature_training_data_selected, area_target_training_data)"
   ]
  },
  {
   "cell_type": "code",
   "execution_count": 20,
   "metadata": {},
   "outputs": [
    {
     "name": "stderr",
     "output_type": "stream",
     "text": [
      "[Parallel(n_jobs=1)]: Using backend SequentialBackend with 1 concurrent workers.\n",
      "[Parallel(n_jobs=1)]: Done   1 out of   1 | elapsed:    0.0s remaining:    0.0s\n"
     ]
    },
    {
     "name": "stdout",
     "output_type": "stream",
     "text": [
      "Accuracy after feature selection: 0.8890\n"
     ]
    },
    {
     "name": "stderr",
     "output_type": "stream",
     "text": [
      "[Parallel(n_jobs=1)]: Done 100 out of 100 | elapsed:   10.1s finished\n"
     ]
    }
   ],
   "source": [
    "area_acc_after = area_model_selected.score(area_feature_testing_data_selected, area_target_testing_data)\n",
    "print(f'Accuracy after feature selection: {area_acc_after:.4f}')"
   ]
  },
  {
   "cell_type": "code",
   "execution_count": 31,
   "metadata": {},
   "outputs": [
    {
     "data": {
      "text/plain": [
       "area_crimes_this_hour\n",
       "0.000000                 2379946\n",
       "0.004630                  205145\n",
       "0.009259                   59934\n",
       "0.013889                   17065\n",
       "0.018519                    5738\n",
       "0.023148                    1401\n",
       "0.027778                     546\n",
       "0.032407                     211\n",
       "0.037037                     116\n",
       "0.041667                      45\n",
       "0.050926                      42\n",
       "0.046296                      36\n",
       "0.069444                      25\n",
       "0.074074                      18\n",
       "0.129630                      18\n",
       "0.078704                      14\n",
       "0.143519                      11\n",
       "0.055556                       7\n",
       "0.060185                       3\n",
       "0.064815                       3\n",
       "0.097222                       2\n",
       "0.115741                       2\n",
       "0.263889                       1\n",
       "0.175926                       1\n",
       "0.148148                       1\n",
       "0.101852                       1\n",
       "0.111111                       1\n",
       "0.092593                       1\n",
       "0.083333                       1\n",
       "0.268519                       1\n",
       "Name: count, dtype: int64"
      ]
     },
     "execution_count": 31,
     "metadata": {},
     "output_type": "execute_result"
    }
   ],
   "source": [
    "area_target_testing_data.value_counts()"
   ]
  },
  {
   "cell_type": "code",
   "execution_count": null,
   "metadata": {},
   "outputs": [],
   "source": []
  }
 ],
 "metadata": {
  "kernelspec": {
   "display_name": "Python 3 (ipykernel)",
   "language": "python",
   "name": "python3"
  },
  "language_info": {
   "codemirror_mode": {
    "name": "ipython",
    "version": 3
   },
   "file_extension": ".py",
   "mimetype": "text/x-python",
   "name": "python",
   "nbconvert_exporter": "python",
   "pygments_lexer": "ipython3",
   "version": "3.9.13"
  }
 },
 "nbformat": 4,
 "nbformat_minor": 2
}
