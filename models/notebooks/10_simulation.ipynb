{
 "cells": [
  {
   "cell_type": "code",
   "execution_count": 174,
   "metadata": {},
   "outputs": [],
   "source": [
    "import pandas as pd\n",
    "import numpy as np\n",
    "import xgboost as xgb\n",
    "import geopandas as gpd\n",
    "import geodatasets\n",
    "import matplotlib.pyplot as plt\n",
    "from shapely.geometry import Point, Polygon\n",
    "import warnings"
   ]
  },
  {
   "cell_type": "code",
   "execution_count": 175,
   "metadata": {},
   "outputs": [],
   "source": [
    "warnings.filterwarnings(\"ignore\", category=pd.errors.SettingWithCopyWarning)"
   ]
  },
  {
   "cell_type": "code",
   "execution_count": 2,
   "metadata": {},
   "outputs": [],
   "source": [
    "final_district_xgb_model = xgb.Booster()\n",
    "final_district_xgb_model.load_model('models/final_district_xgb_model.json')"
   ]
  },
  {
   "cell_type": "code",
   "execution_count": 3,
   "metadata": {},
   "outputs": [
    {
     "data": {
      "text/plain": [
       "<xgboost.core.Booster at 0x2152f4fb1d0>"
      ]
     },
     "execution_count": 3,
     "metadata": {},
     "output_type": "execute_result"
    }
   ],
   "source": [
    "final_district_xgb_model"
   ]
  },
  {
   "cell_type": "code",
   "execution_count": 7,
   "metadata": {},
   "outputs": [],
   "source": [
    "top_features = [\n",
    "    'bus_stops_distance_0.1',\n",
    "    'alleylights_distance_0.1',\n",
    "    'police_stations_distance_1',\n",
    "    'streetlights_oneout_distance_0.1',\n",
    "    'streetlights_allout_distance_0.5',\n",
    "    'streetlights_oneout_distance_0.3',\n",
    "    'streetlights_allout_distance_0.3',\n",
    "    'bike_rides_within_0.5_and_15_min',\n",
    "    'area_crimes_3_hours_prev',\n",
    "    'area_crimes_1_hours_prev',\n",
    "    'alleylights_distance_0.3',\n",
    "    'bike_rides_within_0.1_and_10_min',\n",
    "    'bike_rides_within_0.1_and_5_min',\n",
    "]"
   ]
  },
  {
   "cell_type": "code",
   "execution_count": 13,
   "metadata": {},
   "outputs": [],
   "source": [
    "area_df = pd.read_csv('../../data/pre_training/area_pre_feature_selection_nonnormalized.csv')\n",
    "dis_area_df = pd.read_csv('../../data/pre_training/dis_area_pre_feature_selection_nonnormalized.csv')\n",
    "district_df = pd.read_csv('../../data/pre_training/district_pre_feature_selection_nonnormalized.csv')"
   ]
  },
  {
   "cell_type": "code",
   "execution_count": 14,
   "metadata": {},
   "outputs": [],
   "source": [
    "area_df_selected = area_df[top_features]\n",
    "dis_area_df_selected = dis_area_df[top_features]\n",
    "district_df_selected = district_df[top_features]"
   ]
  },
  {
   "cell_type": "code",
   "execution_count": 4,
   "metadata": {},
   "outputs": [],
   "source": [
    "factor_mapping = {\n",
    "    'Bike Activity': [\n",
    "        'bike_rides_within_0.5_and_15_min', \n",
    "        'bike_rides_within_0.1_and_10_min', \n",
    "        'bike_rides_within_0.1_and_5_min'\n",
    "    ],\n",
    "    'Alleylight Availability': [\n",
    "        'alleylights_distance_0.1',\n",
    "        'alleylights_distance_0.3'\n",
    "    ],\n",
    "    'Streetlight Outages': [\n",
    "        'streetlights_allout_distance_0.5',\n",
    "        'streetlights_allout_distance_0.3'\n",
    "    ],\n",
    "    'Partial Streetlight Outages': [\n",
    "        'streetlights_oneout_distance_0.1',\n",
    "        'streetlights_oneout_distance_0.3'\n",
    "    ],\n",
    "    'Recent Crime Activity': [\n",
    "        'area_crimes_3_hours_prev',\n",
    "        'area_crimes_1_hours_prev'\n",
    "    ]\n",
    "}"
   ]
  },
  {
   "cell_type": "code",
   "execution_count": 206,
   "metadata": {},
   "outputs": [],
   "source": [
    "def simulation(df, ref_df, thresholds):\n",
    "    simmed_dfs = {}\n",
    "    \n",
    "    for factor in factor_mapping.keys():\n",
    "        target_cols = factor_mapping[factor]\n",
    "\n",
    "        for threshold in thresholds:\n",
    "            threshold = round(threshold, 2)\n",
    "            temp_df = df.copy()\n",
    "\n",
    "            if threshold < 0:\n",
    "                random_factors = np.random.uniform(1 - abs(threshold), 1, size=temp_df[target_cols].shape)\n",
    "                temp_df.loc[:, target_cols] = temp_df[target_cols] * random_factors\n",
    "            else:\n",
    "                random_factors = np.random.uniform(1, 1 + threshold, size=temp_df[target_cols].shape)\n",
    "                random_additions = np.random.choice([0, 1], size=temp_df[target_cols].shape, p=[1 - threshold, threshold])\n",
    "                temp_df.loc[:, target_cols] = (temp_df[target_cols] + random_additions) * random_factors\n",
    "\n",
    "            temp_df = pd.concat([temp_df, ref_df], axis=1)\n",
    "            simmed_dfs[f'{factor.replace(\" \", \"_\").lower()}_{threshold}'] = temp_df\n",
    "\n",
    "    return simmed_dfs"
   ]
  },
  {
   "cell_type": "code",
   "execution_count": 207,
   "metadata": {},
   "outputs": [],
   "source": [
    "district_sims = simulation(district_df[top_features], district_df[['district', 'date_hour']], [-0.1, -0.05, 0.05, 0.1])\n",
    "area_sims = simulation(area_df[top_features], area_df[['area_id', 'date_hour']], [-0.1, -0.05, 0.05, 0.1])\n",
    "dis_area_sims = simulation(dis_area_df[top_features], dis_area_df[['dis_area_id', 'date_hour']], [-0.1, -0.05, 0.05, 0.1])"
   ]
  },
  {
   "cell_type": "markdown",
   "metadata": {},
   "source": [
    "##### Rerun model with the new dataset"
   ]
  },
  {
   "cell_type": "code",
   "execution_count": 210,
   "metadata": {},
   "outputs": [],
   "source": [
    "def predict_simulations(model, drops, sim_dfs):\n",
    "    predictions = {}\n",
    "    for threshold, sim_df in sim_dfs.items():\n",
    "        dmatrix = xgb.DMatrix(sim_df.drop(drops, axis=1))\n",
    "        prediction = model.predict(dmatrix)\n",
    "        predictions[threshold] = prediction\n",
    "\n",
    "        print(f'Predictions for {threshold} completed')\n",
    "\n",
    "    return predictions"
   ]
  },
  {
   "cell_type": "code",
   "execution_count": 211,
   "metadata": {},
   "outputs": [],
   "source": [
    "district_predictions = predict_simulations(final_district_xgb_model, ['district', 'date_hour'], district_sims)"
   ]
  },
  {
   "cell_type": "code",
   "execution_count": 128,
   "metadata": {},
   "outputs": [
    {
     "name": "stdout",
     "output_type": "stream",
     "text": [
      "Predictions for bike_activity_-0.1 completed\n",
      "Predictions for bike_activity_-0.05 completed\n",
      "Predictions for bike_activity_0.0 completed\n",
      "Predictions for bike_activity_0.05 completed\n",
      "Predictions for bike_activity_0.1 completed\n",
      "Predictions for alleylight_availability_-0.1 completed\n",
      "Predictions for alleylight_availability_-0.05 completed\n",
      "Predictions for alleylight_availability_0.0 completed\n",
      "Predictions for alleylight_availability_0.05 completed\n",
      "Predictions for alleylight_availability_0.1 completed\n",
      "Predictions for streetlight_outages_-0.1 completed\n",
      "Predictions for streetlight_outages_-0.05 completed\n",
      "Predictions for streetlight_outages_0.0 completed\n",
      "Predictions for streetlight_outages_0.05 completed\n",
      "Predictions for streetlight_outages_0.1 completed\n",
      "Predictions for partial_streetlight_outages_-0.1 completed\n",
      "Predictions for partial_streetlight_outages_-0.05 completed\n",
      "Predictions for partial_streetlight_outages_0.0 completed\n",
      "Predictions for partial_streetlight_outages_0.05 completed\n",
      "Predictions for partial_streetlight_outages_0.1 completed\n",
      "Predictions for recent_crime_activity_-0.1 completed\n",
      "Predictions for recent_crime_activity_-0.05 completed\n",
      "Predictions for recent_crime_activity_0.0 completed\n",
      "Predictions for recent_crime_activity_0.05 completed\n",
      "Predictions for recent_crime_activity_0.1 completed\n"
     ]
    }
   ],
   "source": [
    "area_predictions = predict_simulations(final_district_xgb_model, ['area_id', 'date_hour'], area_sims)"
   ]
  },
  {
   "cell_type": "code",
   "execution_count": 132,
   "metadata": {},
   "outputs": [
    {
     "name": "stdout",
     "output_type": "stream",
     "text": [
      "Predictions for bike_activity_-0.1 completed\n",
      "Predictions for bike_activity_-0.05 completed\n",
      "Predictions for bike_activity_0.05 completed\n",
      "Predictions for bike_activity_0.1 completed\n",
      "Predictions for alleylight_availability_-0.1 completed\n",
      "Predictions for alleylight_availability_-0.05 completed\n",
      "Predictions for alleylight_availability_0.05 completed\n",
      "Predictions for alleylight_availability_0.1 completed\n",
      "Predictions for streetlight_outages_-0.1 completed\n",
      "Predictions for streetlight_outages_-0.05 completed\n",
      "Predictions for streetlight_outages_0.05 completed\n",
      "Predictions for streetlight_outages_0.1 completed\n",
      "Predictions for partial_streetlight_outages_-0.1 completed\n",
      "Predictions for partial_streetlight_outages_-0.05 completed\n",
      "Predictions for partial_streetlight_outages_0.05 completed\n",
      "Predictions for partial_streetlight_outages_0.1 completed\n",
      "Predictions for recent_crime_activity_-0.1 completed\n",
      "Predictions for recent_crime_activity_-0.05 completed\n",
      "Predictions for recent_crime_activity_0.05 completed\n",
      "Predictions for recent_crime_activity_0.1 completed\n"
     ]
    }
   ],
   "source": [
    "dis_area_predictions = predict_simulations(final_district_xgb_model, ['dis_area_id', 'date_hour'], dis_area_sims)"
   ]
  },
  {
   "cell_type": "markdown",
   "metadata": {},
   "source": [
    "##### Calculate Residuals Across Geospatial Factors"
   ]
  },
  {
   "cell_type": "code",
   "execution_count": 139,
   "metadata": {},
   "outputs": [],
   "source": [
    "def calculate_residuals(predictions, test_labels, geodata):\n",
    "    residuals = {}\n",
    "    for threshold, prediction in predictions.items():\n",
    "        temp_df = pd.DataFrame(data={'geo':geodata, 'actual_crime':test_labels, 'new_crime':prediction})\n",
    "        avg_grouped_residuals = temp_df.groupby('geo')[['actual_crime', 'new_crime']].agg('mean').reset_index()\n",
    "        avg_grouped_residuals.rename(columns={'actual_crime':'avg_actual_crime', 'new_crime':'avg_new_crime'}, inplace=True)\n",
    "        avg_grouped_residuals['avg_diff'] = avg_grouped_residuals['avg_actual_crime'] - avg_grouped_residuals['avg_new_crime']\n",
    "        avg_grouped_residuals['avg_perc_diff'] = (avg_grouped_residuals['avg_new_crime'] - avg_grouped_residuals['avg_actual_crime']) / avg_grouped_residuals['avg_actual_crime'] * 100\n",
    "\n",
    "        tot_grouped_residuals = temp_df.groupby('geo')[['actual_crime', 'new_crime']].agg('sum').reset_index()\n",
    "        tot_grouped_residuals.rename(columns={'actual_crime':'tot_actual_crime', 'new_crime':'tot_new_crime'}, inplace=True)\n",
    "        tot_grouped_residuals['tot_diff'] = tot_grouped_residuals['tot_actual_crime'] - tot_grouped_residuals['tot_new_crime']\n",
    "        tot_grouped_residuals['tot_perc_diff'] = (tot_grouped_residuals['tot_new_crime'] - tot_grouped_residuals['tot_actual_crime']) / tot_grouped_residuals['tot_actual_crime'] * 100\n",
    "\n",
    "        residuals[threshold] = pd.merge(avg_grouped_residuals, tot_grouped_residuals, on='geo', how='inner')\n",
    "    \n",
    "    return residuals"
   ]
  },
  {
   "cell_type": "code",
   "execution_count": 140,
   "metadata": {},
   "outputs": [],
   "source": [
    "district_residuals = calculate_residuals(district_predictions, district_df['district_crimes_this_hour'], district_df['district'])"
   ]
  },
  {
   "cell_type": "code",
   "execution_count": 142,
   "metadata": {},
   "outputs": [],
   "source": [
    "area_residuals = calculate_residuals(area_predictions, area_df['area_crimes_this_hour'], area_df['area_id'])"
   ]
  },
  {
   "cell_type": "code",
   "execution_count": 144,
   "metadata": {},
   "outputs": [],
   "source": [
    "dis_area_residuals = calculate_residuals(dis_area_predictions, dis_area_df['dis_area_crimes_this_hour'], dis_area_df['dis_area_id'])"
   ]
  },
  {
   "cell_type": "markdown",
   "metadata": {},
   "source": [
    "##### Visualize the Differences"
   ]
  },
  {
   "cell_type": "code",
   "execution_count": 103,
   "metadata": {},
   "outputs": [],
   "source": [
    "clean_police_districts = pd.read_csv('../../data/processed/clean_police_districts.csv')\n",
    "clean_areas = pd.read_csv('../../data/processed/clean_areas.csv')\n",
    "disadvantaged_areas_within_areas = pd.read_csv('../../data/processed/disadvantaged_areas_within_areas.csv')"
   ]
  },
  {
   "cell_type": "code",
   "execution_count": 105,
   "metadata": {},
   "outputs": [],
   "source": [
    "def parse_polygon(polygon_string):\n",
    "    points = polygon_string.strip('POLYGON ((').strip('))').split(', ')\n",
    "    points = [tuple(map(float, point.split())) for point in points]\n",
    "    return Polygon(points)"
   ]
  },
  {
   "cell_type": "code",
   "execution_count": 106,
   "metadata": {},
   "outputs": [],
   "source": [
    "def swap_coordinates(polygon):\n",
    "    if polygon.is_empty:\n",
    "        return polygon\n",
    "    swapped_coords = [(y, x) for x, y in polygon.exterior.coords]\n",
    "    return Polygon(swapped_coords)"
   ]
  },
  {
   "cell_type": "code",
   "execution_count": 107,
   "metadata": {},
   "outputs": [
    {
     "data": {
      "text/html": [
       "<div>\n",
       "<style scoped>\n",
       "    .dataframe tbody tr th:only-of-type {\n",
       "        vertical-align: middle;\n",
       "    }\n",
       "\n",
       "    .dataframe tbody tr th {\n",
       "        vertical-align: top;\n",
       "    }\n",
       "\n",
       "    .dataframe thead th {\n",
       "        text-align: right;\n",
       "    }\n",
       "</style>\n",
       "<table border=\"1\" class=\"dataframe\">\n",
       "  <thead>\n",
       "    <tr style=\"text-align: right;\">\n",
       "      <th></th>\n",
       "      <th>district</th>\n",
       "      <th>geom</th>\n",
       "      <th>disadvantaged_score</th>\n",
       "      <th>disadvantaged_score.1</th>\n",
       "      <th>centroid</th>\n",
       "      <th>status</th>\n",
       "      <th>areas</th>\n",
       "    </tr>\n",
       "  </thead>\n",
       "  <tbody>\n",
       "    <tr>\n",
       "      <th>0</th>\n",
       "      <td>17</td>\n",
       "      <td>POLYGON ((-87.71067089391354 41.99736565536943...</td>\n",
       "      <td>0.0</td>\n",
       "      <td>0.0</td>\n",
       "      <td>0.0</td>\n",
       "      <td>0.0</td>\n",
       "      <td>0.0</td>\n",
       "    </tr>\n",
       "    <tr>\n",
       "      <th>1</th>\n",
       "      <td>20</td>\n",
       "      <td>POLYGON ((-87.66029423572358 41.99091633853977...</td>\n",
       "      <td>4.0</td>\n",
       "      <td>4.0</td>\n",
       "      <td>4.0</td>\n",
       "      <td>4.0</td>\n",
       "      <td>4.0</td>\n",
       "    </tr>\n",
       "    <tr>\n",
       "      <th>2</th>\n",
       "      <td>31</td>\n",
       "      <td>POLYGON ((-87.82817787271652 41.98384222028714...</td>\n",
       "      <td>0.0</td>\n",
       "      <td>0.0</td>\n",
       "      <td>0.0</td>\n",
       "      <td>0.0</td>\n",
       "      <td>0.0</td>\n",
       "    </tr>\n",
       "    <tr>\n",
       "      <th>3</th>\n",
       "      <td>31</td>\n",
       "      <td>POLYGON ((-87.83365455160555 41.97535481526603...</td>\n",
       "      <td>0.0</td>\n",
       "      <td>0.0</td>\n",
       "      <td>0.0</td>\n",
       "      <td>0.0</td>\n",
       "      <td>0.0</td>\n",
       "    </tr>\n",
       "    <tr>\n",
       "      <th>4</th>\n",
       "      <td>19</td>\n",
       "      <td>POLYGON ((-87.64491798568677 41.96972709381482...</td>\n",
       "      <td>2.0</td>\n",
       "      <td>2.0</td>\n",
       "      <td>2.0</td>\n",
       "      <td>2.0</td>\n",
       "      <td>2.0</td>\n",
       "    </tr>\n",
       "  </tbody>\n",
       "</table>\n",
       "</div>"
      ],
      "text/plain": [
       "   district                                               geom  \\\n",
       "0        17  POLYGON ((-87.71067089391354 41.99736565536943...   \n",
       "1        20  POLYGON ((-87.66029423572358 41.99091633853977...   \n",
       "2        31  POLYGON ((-87.82817787271652 41.98384222028714...   \n",
       "3        31  POLYGON ((-87.83365455160555 41.97535481526603...   \n",
       "4        19  POLYGON ((-87.64491798568677 41.96972709381482...   \n",
       "\n",
       "   disadvantaged_score  disadvantaged_score.1  centroid  status  areas  \n",
       "0                  0.0                    0.0       0.0     0.0    0.0  \n",
       "1                  4.0                    4.0       4.0     4.0    4.0  \n",
       "2                  0.0                    0.0       0.0     0.0    0.0  \n",
       "3                  0.0                    0.0       0.0     0.0    0.0  \n",
       "4                  2.0                    2.0       2.0     2.0    2.0  "
      ]
     },
     "execution_count": 107,
     "metadata": {},
     "output_type": "execute_result"
    }
   ],
   "source": [
    "clean_police_districts['geom'] = clean_police_districts['geom'].apply(parse_polygon)\n",
    "clean_police_districts['geom'] = clean_police_districts['geom'].apply(swap_coordinates)\n",
    "clean_police_districts.head()"
   ]
  },
  {
   "cell_type": "code",
   "execution_count": 108,
   "metadata": {},
   "outputs": [
    {
     "data": {
      "text/html": [
       "<div>\n",
       "<style scoped>\n",
       "    .dataframe tbody tr th:only-of-type {\n",
       "        vertical-align: middle;\n",
       "    }\n",
       "\n",
       "    .dataframe tbody tr th {\n",
       "        vertical-align: top;\n",
       "    }\n",
       "\n",
       "    .dataframe thead th {\n",
       "        text-align: right;\n",
       "    }\n",
       "</style>\n",
       "<table border=\"1\" class=\"dataframe\">\n",
       "  <thead>\n",
       "    <tr style=\"text-align: right;\">\n",
       "      <th></th>\n",
       "      <th>id</th>\n",
       "      <th>poly</th>\n",
       "      <th>district</th>\n",
       "    </tr>\n",
       "  </thead>\n",
       "  <tbody>\n",
       "    <tr>\n",
       "      <th>0</th>\n",
       "      <td>35</td>\n",
       "      <td>POLYGON ((-87.60914087617894 41.84469250265398...</td>\n",
       "      <td>2</td>\n",
       "    </tr>\n",
       "    <tr>\n",
       "      <th>1</th>\n",
       "      <td>36</td>\n",
       "      <td>POLYGON ((-87.59215283879394 41.81692934626684...</td>\n",
       "      <td>2</td>\n",
       "    </tr>\n",
       "    <tr>\n",
       "      <th>2</th>\n",
       "      <td>37</td>\n",
       "      <td>POLYGON ((-87.62879823733725 41.80189303368919...</td>\n",
       "      <td>9</td>\n",
       "    </tr>\n",
       "    <tr>\n",
       "      <th>3</th>\n",
       "      <td>38</td>\n",
       "      <td>POLYGON ((-87.6067081256125 41.81681377057218,...</td>\n",
       "      <td>2</td>\n",
       "    </tr>\n",
       "    <tr>\n",
       "      <th>4</th>\n",
       "      <td>39</td>\n",
       "      <td>POLYGON ((-87.59215283879394 41.81692934626684...</td>\n",
       "      <td>2</td>\n",
       "    </tr>\n",
       "  </tbody>\n",
       "</table>\n",
       "</div>"
      ],
      "text/plain": [
       "   id                                               poly  district\n",
       "0  35  POLYGON ((-87.60914087617894 41.84469250265398...         2\n",
       "1  36  POLYGON ((-87.59215283879394 41.81692934626684...         2\n",
       "2  37  POLYGON ((-87.62879823733725 41.80189303368919...         9\n",
       "3  38  POLYGON ((-87.6067081256125 41.81681377057218,...         2\n",
       "4  39  POLYGON ((-87.59215283879394 41.81692934626684...         2"
      ]
     },
     "execution_count": 108,
     "metadata": {},
     "output_type": "execute_result"
    }
   ],
   "source": [
    "clean_areas['poly'] = clean_areas['poly'].apply(parse_polygon)\n",
    "clean_areas['poly'] = clean_areas['poly'].apply(swap_coordinates)\n",
    "clean_areas.head()"
   ]
  },
  {
   "cell_type": "code",
   "execution_count": 109,
   "metadata": {},
   "outputs": [
    {
     "data": {
      "text/html": [
       "<div>\n",
       "<style scoped>\n",
       "    .dataframe tbody tr th:only-of-type {\n",
       "        vertical-align: middle;\n",
       "    }\n",
       "\n",
       "    .dataframe tbody tr th {\n",
       "        vertical-align: top;\n",
       "    }\n",
       "\n",
       "    .dataframe thead th {\n",
       "        text-align: right;\n",
       "    }\n",
       "</style>\n",
       "<table border=\"1\" class=\"dataframe\">\n",
       "  <thead>\n",
       "    <tr style=\"text-align: right;\">\n",
       "      <th></th>\n",
       "      <th>poly</th>\n",
       "      <th>district</th>\n",
       "      <th>areas</th>\n",
       "      <th>id</th>\n",
       "    </tr>\n",
       "  </thead>\n",
       "  <tbody>\n",
       "    <tr>\n",
       "      <th>0</th>\n",
       "      <td>POLYGON ((-87.57366299996758 41.70796600003142...</td>\n",
       "      <td>4</td>\n",
       "      <td>51</td>\n",
       "      <td>0</td>\n",
       "    </tr>\n",
       "    <tr>\n",
       "      <th>1</th>\n",
       "      <td>POLYGON ((-87.60151899995586 41.68632499999862...</td>\n",
       "      <td>5</td>\n",
       "      <td>50</td>\n",
       "      <td>1</td>\n",
       "    </tr>\n",
       "    <tr>\n",
       "      <th>2</th>\n",
       "      <td>POLYGON ((-87.60036199996543 41.69284299996604...</td>\n",
       "      <td>5</td>\n",
       "      <td>50</td>\n",
       "      <td>2</td>\n",
       "    </tr>\n",
       "    <tr>\n",
       "      <th>3</th>\n",
       "      <td>POLYGON ((-87.62032800000847 41.69942700001048...</td>\n",
       "      <td>5</td>\n",
       "      <td>49</td>\n",
       "      <td>3</td>\n",
       "    </tr>\n",
       "    <tr>\n",
       "      <th>4</th>\n",
       "      <td>POLYGON ((-87.66036699995497 41.75771799998948...</td>\n",
       "      <td>6</td>\n",
       "      <td>71</td>\n",
       "      <td>4</td>\n",
       "    </tr>\n",
       "  </tbody>\n",
       "</table>\n",
       "</div>"
      ],
      "text/plain": [
       "                                                poly  district  areas  id\n",
       "0  POLYGON ((-87.57366299996758 41.70796600003142...         4     51   0\n",
       "1  POLYGON ((-87.60151899995586 41.68632499999862...         5     50   1\n",
       "2  POLYGON ((-87.60036199996543 41.69284299996604...         5     50   2\n",
       "3  POLYGON ((-87.62032800000847 41.69942700001048...         5     49   3\n",
       "4  POLYGON ((-87.66036699995497 41.75771799998948...         6     71   4"
      ]
     },
     "execution_count": 109,
     "metadata": {},
     "output_type": "execute_result"
    }
   ],
   "source": [
    "disadvantaged_areas_within_areas['poly'] = disadvantaged_areas_within_areas['poly'].apply(parse_polygon)\n",
    "disadvantaged_areas_within_areas['poly'] = disadvantaged_areas_within_areas['poly'].apply(swap_coordinates)\n",
    "disadvantaged_areas_within_areas['id'] = disadvantaged_areas_within_areas.index\n",
    "disadvantaged_areas_within_areas.head()"
   ]
  },
  {
   "cell_type": "code",
   "execution_count": 111,
   "metadata": {},
   "outputs": [],
   "source": [
    "clean_areas.rename(columns={'id':'area', 'poly':'geom'}, inplace=True)\n",
    "disadvantaged_areas_within_areas.rename(columns={'id':'area', 'poly':'geom'}, inplace=True)"
   ]
  },
  {
   "cell_type": "code",
   "execution_count": 112,
   "metadata": {},
   "outputs": [],
   "source": [
    "geo_districts = gpd.GeoDataFrame(clean_police_districts[['district','geom']], geometry='geom')\n",
    "geo_areas = gpd.GeoDataFrame(clean_areas[['area','geom']], geometry='geom')\n",
    "geo_dis_areas = gpd.GeoDataFrame(disadvantaged_areas_within_areas[['area','geom']], geometry='geom')"
   ]
  },
  {
   "cell_type": "code",
   "execution_count": 99,
   "metadata": {},
   "outputs": [],
   "source": [
    "chicago = gpd.read_file(geodatasets.get_path(\"geoda.chicago_commpop\"))"
   ]
  },
  {
   "cell_type": "code",
   "execution_count": 125,
   "metadata": {},
   "outputs": [],
   "source": [
    "def plot_normalized_heatmap(geo_df, target_column, t, title, threshold=0.1, label=True, background=True, savefig=None):\n",
    "    merged_gdf = geo_df.merge(target_column, left_on=t, right_on='geo')\n",
    "    fig, ax = plt.subplots(figsize=(8, 8), facecolor=\"#f9f9f6\")\n",
    "    ax.set_facecolor(\"#e0e0e0\")\n",
    "\n",
    "    if background:\n",
    "        chicago.plot(color='lightgrey', alpha=1, ax=ax)\n",
    "\n",
    "    merged_gdf.plot(column=target_column.columns[1], cmap='OrRd', ax=ax)\n",
    "\n",
    "    sm = plt.cm.ScalarMappable(cmap='OrRd', norm=plt.Normalize(vmin=0, vmax=1))\n",
    "    sm.set_array([])\n",
    "    cbar = fig.colorbar(sm, ax=ax, orientation=\"horizontal\", fraction=0.036, pad=0.1)\n",
    "    cbar.set_ticks([0, 1])\n",
    "    cbar.ax.set_xticklabels(['Low', 'High'])\n",
    "\n",
    "    cbar.outline.set_visible(False)\n",
    "\n",
    "    if label:\n",
    "        for _, row in merged_gdf.iterrows():\n",
    "            if row[target_column] > 1 - threshold:\n",
    "                plt.text(row.geom.centroid.x, row.geom.centroid.y, s=row[t], \n",
    "                    horizontalalignment='center', verticalalignment='center', fontsize=10, color='white', fontweight='bold')\n",
    "            elif row[target_column] < threshold:\n",
    "                plt.text(row.geom.centroid.x, row.geom.centroid.y, s=row[t], \n",
    "                        horizontalalignment='center', verticalalignment='center', fontsize=10, color='black', fontweight='bold')      \n",
    "\n",
    "    tit = f\"The Impact of {target_column.columns[1]} On Each \\n {title}'s Total Crime\"\n",
    "\n",
    "    plt.title(tit, fontsize=14, pad=14)\n",
    "    ax.tick_params(left=False, bottom=False, labelleft=False, labelbottom=False)\n",
    "\n",
    "    if savefig is not None:\n",
    "        plt.savefig(savefig)\n",
    "\n",
    "    plt.show()"
   ]
  },
  {
   "cell_type": "code",
   "execution_count": 126,
   "metadata": {},
   "outputs": [
    {
     "data": {
      "image/png": "[encoded data removed]",
      "text/plain": [
       "<Figure size 800x800 with 2 Axes>"
      ]
     },
     "metadata": {},
     "output_type": "display_data"
    }
   ],
   "source": [
    "plot_normalized_heatmap(geo_districts, district_residuals['alleylight_availability_-0.1'][['geo', 'avg_diff']], 'district', 'Police Districts', label=False)"
   ]
  },
  {
   "cell_type": "code",
   "execution_count": null,
   "metadata": {},
   "outputs": [],
   "source": []
  }
 ],
 "metadata": {
  "kernelspec": {
   "display_name": "Python 3 (ipykernel)",
   "language": "python",
   "name": "python3"
  },
  "language_info": {
   "codemirror_mode": {
    "name": "ipython",
    "version": 3
   },
   "file_extension": ".py",
   "mimetype": "text/x-python",
   "name": "python",
   "nbconvert_exporter": "python",
   "pygments_lexer": "ipython3",
   "version": "3.12.4"
  }
 },
 "nbformat": 4,
 "nbformat_minor": 2
}
