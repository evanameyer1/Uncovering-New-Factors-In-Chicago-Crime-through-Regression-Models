{
 "cells": [
  {
   "cell_type": "code",
   "execution_count": 1,
   "metadata": {},
   "outputs": [
    {
     "name": "stderr",
     "output_type": "stream",
     "text": [
      "C:\\Users\\evana\\anaconda3\\lib\\site-packages\\scipy\\__init__.py:155: UserWarning: A NumPy version >=1.18.5 and <1.25.0 is required for this version of SciPy (detected version 1.26.4\n",
      "  warnings.warn(f\"A NumPy version >={np_minversion} and <{np_maxversion}\"\n"
     ]
    }
   ],
   "source": [
    "import pandas as pd\n",
    "from geopy.distance import geodesic # deprecated\n",
    "import geopandas as gpd\n",
    "from scipy.spatial import cKDTree\n",
    "import numpy as np\n",
    "import os"
   ]
  },
  {
   "cell_type": "markdown",
   "metadata": {},
   "source": [
    "#### Reading in Files"
   ]
  },
  {
   "cell_type": "code",
   "execution_count": 2,
   "metadata": {},
   "outputs": [],
   "source": [
    "directory = '../../data/processed'\n",
    "target = ['clean_vacant_buildings.csv', 'clean_bike_stations.csv', 'clean_bus_stops.csv', 'clean_police_stations.csv', 'clean_train_stations.csv']\n",
    "\n",
    "# Creating a Dict to Store Datasets with long,lat columns\n",
    "def read_in(directory, target):\n",
    "    data = {}\n",
    "    for filename in os.listdir(directory):\n",
    "        if filename in target:\n",
    "            file_path = os.path.join(directory, filename)\n",
    "            data[filename[:-4]] = pd.read_csv(file_path)\n",
    "            print(f'{filename[:-4]} successfully read in')\n",
    "    return data"
   ]
  },
  {
   "cell_type": "code",
   "execution_count": 3,
   "metadata": {},
   "outputs": [
    {
     "name": "stdout",
     "output_type": "stream",
     "text": [
      "clean_bike_stations successfully read in\n",
      "clean_bus_stops successfully read in\n",
      "clean_police_stations successfully read in\n",
      "clean_train_stations successfully read in\n",
      "clean_vacant_buildings successfully read in\n"
     ]
    }
   ],
   "source": [
    "data = read_in(directory, target)"
   ]
  },
  {
   "cell_type": "code",
   "execution_count": 4,
   "metadata": {},
   "outputs": [],
   "source": [
    "clean_crime = pd.read_csv('../../data/processed/clean_crime.csv')"
   ]
  },
  {
   "cell_type": "code",
   "execution_count": 5,
   "metadata": {},
   "outputs": [],
   "source": [
    "clean_crime['point'] = clean_crime.apply(lambda row: (row['lat'], row['long']), axis=1)"
   ]
  },
  {
   "cell_type": "markdown",
   "metadata": {},
   "source": [
    "#### Conducing Proximity Analysis"
   ]
  },
  {
   "cell_type": "code",
   "execution_count": 6,
   "metadata": {},
   "outputs": [],
   "source": [
    "# Deprecated: The following function is no longer in use.\n",
    "# It has been replaced by a more efficient implementation.\n",
    "# Retained for reference and documentation purposes.\n",
    "\n",
    "def proximity_scan(df, distances):\n",
    "    output = []\n",
    "\n",
    "    for crime_idx, crime_row in clean_crime.iterrows():\n",
    "        crime_cnt = [0 for i in range(len(distances))]\n",
    "        clean_pt = crime_row['point']\n",
    "\n",
    "        for df_idx, df_row in df.iterrows():\n",
    "            comp_pt = (df_row['lat'], df_row['long'])\n",
    "            calculated_distance = geodesic(clean_pt, comp_pt).miles\n",
    "            print(f'row {df_idx} calculated distance of {calculated_distance}')\n",
    "            \n",
    "            for idx, distance in enumerate(distances):\n",
    "                if calculated_distance <= distance: crime_cnt[idx] += 1\n",
    "    \n",
    "        print(f'crime {crime_idx} found counts of {crime_cnt}')\n",
    "        output.append(crime_cnt)\n",
    "    \n",
    "    temp_df = pd.DataFrame(output, columns=[f'distance_{str(distance)}' for distance in distances])\n",
    "    return pd.concat([df, temp_df], axis=1)        "
   ]
  },
  {
   "cell_type": "code",
   "execution_count": 7,
   "metadata": {},
   "outputs": [],
   "source": [
    "def proximity_scan(df, col_name, distances):\n",
    "    clean_crime_gdf = gpd.GeoDataFrame(clean_crime, geometry=gpd.points_from_xy(clean_crime.long, clean_crime.lat))\n",
    "    df_gdf = gpd.GeoDataFrame(df, geometry=gpd.points_from_xy(df.long, df.lat))\n",
    "    \n",
    "    df_coords = np.array(list(zip(df_gdf.geometry.x, df_gdf.geometry.y)))\n",
    "    tree = cKDTree(df_coords)\n",
    "    \n",
    "    output = []\n",
    "    distances_in_degrees = [d / 69 for d in distances] # Convert distances from miles to degrees\n",
    "\n",
    "    for crime_idx, crime_row in clean_crime_gdf.iterrows():            \n",
    "        crime_cnt = [0 for _ in range(len(distances))]\n",
    "        crime_point = crime_row.geometry\n",
    "        \n",
    "        for idx, distance in enumerate(distances_in_degrees):\n",
    "            indices = tree.query_ball_point([crime_point.x, crime_point.y], distance)\n",
    "            crime_cnt[idx] = len(indices)\n",
    "        \n",
    "        output.append(crime_cnt)\n",
    "    \n",
    "    temp_df = pd.DataFrame(output, columns=[f'{col_name}_distance_{str(distance)}' for distance in distances])\n",
    "    return temp_df"
   ]
  },
  {
   "cell_type": "code",
   "execution_count": 8,
   "metadata": {},
   "outputs": [],
   "source": [
    "crime_with_police = proximity_scan(data['clean_police_stations'], 'police_stations', [0.1, 0.3, 0.5, 1, 3, 5])\n",
    "crime_with_bikes = proximity_scan(data['clean_bike_stations'], 'bike_stations', [0.1, 0.3, 0.5, 1, 3, 5])\n",
    "crime_with_buses = proximity_scan(data['clean_bus_stops'], 'bus_stops', [0.1, 0.3, 0.5, 1, 3, 5])\n",
    "crime_with_trains = proximity_scan(data['clean_train_stations'], 'train_stations', [0.1, 0.3, 0.5, 1, 3, 5])\n",
    "crime_with_vacant_buildings = proximity_scan(data['clean_vacant_buildings'], 'vacant_buildings', [0.1, 0.3, 0.5, 1, 3, 5])"
   ]
  },
  {
   "cell_type": "markdown",
   "metadata": {},
   "source": [
    "#### Accounting for Unique Time-Related Case (311 datasets)"
   ]
  },
  {
   "cell_type": "code",
   "execution_count": null,
   "metadata": {},
   "outputs": [],
   "source": [
    "clean_alleylights = pd.read_csv('../../data/processed/clean_alleylights.csv')\n",
    "clean_streetlights_allout = pd.read_csv('../../data/processed/clean_streetlights_allout.csv')\n",
    "clean_streetlights_oneout = pd.read_csv('../../data/processed/clean_streetlights_oneout.csv')"
   ]
  },
  {
   "cell_type": "code",
   "execution_count": null,
   "metadata": {},
   "outputs": [],
   "source": [
    "def patch_datetypes(data):\n",
    "    for df in data:\n",
    "        df['start_date'] = pd.to_datetime(df['start_date'])\n",
    "        df['end_date'] = pd.to_datetime(df['end_date'])"
   ]
  },
  {
   "cell_type": "code",
   "execution_count": null,
   "metadata": {},
   "outputs": [],
   "source": [
    "def proximity_scan_311(df, col_name, distances):\n",
    "    clean_crime_gdf = gpd.GeoDataFrame(clean_crime, geometry=gpd.points_from_xy(clean_crime.long, clean_crime.lat))\n",
    "    \n",
    "    output = []\n",
    "    distances_in_degrees = [d / 69 for d in distances] # Convert distances from miles to degrees\n",
    "\n",
    "    for crime_idx, crime_row in clean_crime_gdf.iterrows():          \n",
    "        crime_cnt = [0 for _ in range(len(distances))]\n",
    "        crime_point = crime_row.geometry\n",
    "        \n",
    "        df_filtered = df[(df.start_date <= crime_row['date']) & ((df.end_date.isna()) | (df.end_date >= crime_row['date']))]\n",
    "        df_gdf = gpd.GeoDataFrame(df_filtered, geometry=gpd.points_from_xy(df_filtered.long, df_filtered.lat))\n",
    "        df_coords = np.array(list(zip(df_gdf.geometry.x, df_gdf.geometry.y)))\n",
    "        tree = cKDTree(df_coords)\n",
    "\n",
    "        for idx, distance in enumerate(distances_in_degrees):\n",
    "            indices = tree.query_ball_point([crime_point.x, crime_point.y], distance)\n",
    "            crime_cnt[idx] = len(indices)\n",
    "        \n",
    "        output.append(crime_cnt)\n",
    "    \n",
    "    temp_df = pd.DataFrame(output, columns=[f'{col_name}_distance_{str(distance)}' for distance in distances])\n",
    "    return temp_df"
   ]
  },
  {
   "cell_type": "code",
   "execution_count": null,
   "metadata": {},
   "outputs": [],
   "source": [
    "patch_datetypes([clean_alleylights, clean_streetlights_allout, clean_streetlights_oneout])"
   ]
  },
  {
   "cell_type": "code",
   "execution_count": null,
   "metadata": {},
   "outputs": [],
   "source": [
    "crime_with_alleylights = proximity_scan_311(clean_alleylights, 'alleylights', [0.1, 0.3, 0.5, 1, 3, 5])\n",
    "crime_with_streetlights_allout = proximity_scan_311(clean_streetlights_allout, 'streetlights_allout', [0.1, 0.3, 0.5, 1, 3, 5])\n",
    "crime_with_streetlights_oneout = proximity_scan_311(clean_streetlights_oneout, 'streetlights_oneout', [0.1, 0.3, 0.5, 1, 3, 5])"
   ]
  },
  {
   "cell_type": "markdown",
   "metadata": {},
   "source": [
    "#### Cleaning and Saving Finalized Dataset"
   ]
  },
  {
   "cell_type": "code",
   "execution_count": null,
   "metadata": {},
   "outputs": [],
   "source": [
    "crime_with_proximity = pd.concat([clean_crime, crime_with_police, crime_with_bikes, crime_with_buses, crime_with_trains, clean_alleylights, clean_streetlights_allout, clean_streetlights_oneout], axis=1).drop('point', axis=1)"
   ]
  },
  {
   "cell_type": "code",
   "execution_count": null,
   "metadata": {},
   "outputs": [],
   "source": [
    "crime_with_proximity"
   ]
  },
  {
   "cell_type": "code",
   "execution_count": null,
   "metadata": {},
   "outputs": [],
   "source": [
    "crime_with_proximity.to_csv('../../data/pre_training/crime_with_proximity.csv', index=False)"
   ]
  }
 ],
 "metadata": {
  "kernelspec": {
   "display_name": "Python 3 (ipykernel)",
   "language": "python",
   "name": "python3"
  },
  "language_info": {
   "codemirror_mode": {
    "name": "ipython",
    "version": 3
   },
   "file_extension": ".py",
   "mimetype": "text/x-python",
   "name": "python",
   "nbconvert_exporter": "python",
   "pygments_lexer": "ipython3",
   "version": "3.9.13"
  }
 },
 "nbformat": 4,
 "nbformat_minor": 2
}
