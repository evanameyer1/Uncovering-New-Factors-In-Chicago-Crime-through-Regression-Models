{
 "cells": [
  {
   "cell_type": "code",
   "execution_count": 1,
   "metadata": {},
   "outputs": [],
   "source": [
    "import pandas as pd"
   ]
  },
  {
   "cell_type": "code",
   "execution_count": 2,
   "metadata": {},
   "outputs": [],
   "source": [
    "pre_feature_selection = pd.read_csv('../../data/pre_training/pre_feature_selection.csv')"
   ]
  },
  {
   "cell_type": "code",
   "execution_count": 3,
   "metadata": {},
   "outputs": [],
   "source": [
    "area_features = pre_feature_selection.drop('area_crimes_this_hour', axis=1)\n",
    "area_target = pre_feature_selection[['year', 'area_crimes_this_hour']]"
   ]
  },
  {
   "cell_type": "code",
   "execution_count": 4,
   "metadata": {},
   "outputs": [],
   "source": [
    "district_features = pre_feature_selection.drop('district_crimes_this_hour', axis=1)\n",
    "district_target = pre_feature_selection[['year', 'district_crimes_this_hour']]"
   ]
  },
  {
   "cell_type": "code",
   "execution_count": 5,
   "metadata": {},
   "outputs": [],
   "source": [
    "# break the datasets into testing and training datasets\n",
    "area_feature_training_data = area_features[area_features['year'] < 2020].reset_index(drop=True)\n",
    "area_target_training_data = area_target[area_target['year'] < 2020].reset_index(drop=True)\n",
    "\n",
    "area_feature_testing_data = area_features[area_features['year'] == 2020].reset_index(drop=True)\n",
    "area_target_testing_data = area_target[area_target['year'] == 2020].reset_index(drop=True)"
   ]
  },
  {
   "cell_type": "code",
   "execution_count": 6,
   "metadata": {},
   "outputs": [],
   "source": [
    "district_feature_training_data = district_features[district_features['year'] < 2020].reset_index(drop=True)\n",
    "district_target_training_data = district_target[district_target['year'] < 2020].reset_index(drop=True)\n",
    "\n",
    "district_feature_testing_data = district_features[district_features['year'] == 2020].reset_index(drop=True)\n",
    "district_target_testing_data = district_target[district_target['year'] == 2020].reset_index(drop=True)"
   ]
  },
  {
   "cell_type": "code",
   "execution_count": 7,
   "metadata": {},
   "outputs": [],
   "source": [
    "area_target_training_data = area_target_training_data.drop('year', axis=1)\n",
    "area_target_testing_data = area_target_testing_data.drop('year', axis=1)\n",
    "district_target_training_data = district_target_training_data.drop('year', axis=1)\n",
    "district_target_testing_data = district_target_testing_data.drop('year', axis=1)"
   ]
  },
  {
   "cell_type": "code",
   "execution_count": 8,
   "metadata": {},
   "outputs": [],
   "source": [
    "# LR - SKLearn\n",
    "# XGBoost - XGBoost\n",
    "# RF - SKLearn\n",
    "# ARIMA - Statsmodels\n",
    "# VAR - Statsmodels\n",
    "# LSTM - Tensorflow"
   ]
  },
  {
   "cell_type": "code",
   "execution_count": null,
   "metadata": {},
   "outputs": [],
   "source": [
    "# add new algo cols -- DONE -- \n",
    "# remove district_this_hour and area_this_hour \n",
    "# change crime lags so we have seperate crime lags for district and area"
   ]
  },
  {
   "cell_type": "code",
   "execution_count": null,
   "metadata": {},
   "outputs": [],
   "source": [
    "# code to run while gone this weekend:\n",
    "# SFS for lin reg\n",
    "# training and testing of lin reg\n",
    "\n",
    "# training and testing of xgboost\n",
    "# parameter tuning of xgboost\n",
    "# training and testing of new xgboost\n",
    "\n",
    "# training and testing of rf\n",
    "# parameter tuning of rf\n",
    "# training and testing of new rf"
   ]
  },
  {
   "cell_type": "markdown",
   "metadata": {},
   "source": [
    "##### Linear Regression"
   ]
  },
  {
   "cell_type": "code",
   "execution_count": 9,
   "metadata": {},
   "outputs": [],
   "source": [
    "lr_district_feature_training_data = district_feature_training_data.drop('date_hour', axis=1)\n",
    "lr_district_feature_testing_data = district_feature_testing_data.drop('date_hour', axis=1)\n",
    "\n",
    "lr_area_feature_training_data = area_feature_training_data.drop('date_hour', axis=1)\n",
    "lr_area_feature_testing_data = area_feature_testing_data.drop('date_hour', axis=1)"
   ]
  },
  {
   "cell_type": "code",
   "execution_count": 10,
   "metadata": {},
   "outputs": [],
   "source": [
    "lr_district_feature_training_data.to_csv('../../data/models/linear_regression/lr_district_feature_training_data.csv', index=False)"
   ]
  },
  {
   "cell_type": "code",
   "execution_count": 11,
   "metadata": {},
   "outputs": [],
   "source": [
    "district_target_training_data.to_csv('../../data/models/linear_regression/lr_district_target_training_data.csv', index=False)"
   ]
  },
  {
   "cell_type": "code",
   "execution_count": 12,
   "metadata": {},
   "outputs": [],
   "source": [
    "lr_district_feature_testing_data.to_csv('../../data/models/linear_regression/lr_district_feature_testing_data.csv', index=False)"
   ]
  },
  {
   "cell_type": "code",
   "execution_count": 13,
   "metadata": {},
   "outputs": [],
   "source": [
    "district_target_testing_data.to_csv('../../data/models/linear_regression/lr_district_target_testing_data.csv', index=False)"
   ]
  },
  {
   "cell_type": "code",
   "execution_count": 14,
   "metadata": {},
   "outputs": [],
   "source": [
    "lr_area_feature_training_data.to_csv('../../data/models/linear_regression/lr_area_feature_training_data.csv', index=False)"
   ]
  },
  {
   "cell_type": "code",
   "execution_count": 15,
   "metadata": {},
   "outputs": [],
   "source": [
    "area_target_training_data.to_csv('../../data/models/linear_regression/lr_area_target_training_data.csv', index=False)"
   ]
  },
  {
   "cell_type": "code",
   "execution_count": 16,
   "metadata": {},
   "outputs": [],
   "source": [
    "lr_area_feature_testing_data.to_csv('../../data/models/linear_regression/lr_area_feature_testing_data.csv', index=False)"
   ]
  },
  {
   "cell_type": "code",
   "execution_count": 17,
   "metadata": {},
   "outputs": [],
   "source": [
    "area_target_testing_data.to_csv('../../data/models/linear_regression/lr_area_target_testing_data.csv', index=False)"
   ]
  },
  {
   "cell_type": "markdown",
   "metadata": {},
   "source": [
    "##### Random Forest"
   ]
  },
  {
   "cell_type": "code",
   "execution_count": null,
   "metadata": {},
   "outputs": [],
   "source": [
    "district_feature_training_data.to_csv('../../data/models/random_forest/rf_district_feature_training_data.csv', index=False)\n",
    "district_target_training_data.to_csv('../../data/models/random_forest/rf_district_target_training_data.csv', index=False)\n",
    "district_feature_testing_data.to_csv('../../data/models/random_forest/rf_district_feature_testing_data.csv', index=False)\n",
    "district_target_testing_data.to_csv('../../data/models/random_forest/rf_district_target_testing_data.csv', index=False)"
   ]
  },
  {
   "cell_type": "code",
   "execution_count": null,
   "metadata": {},
   "outputs": [],
   "source": [
    "area_feature_training_data.to_csv('../../data/models/random_forest/rf_area_feature_training_data.csv', index=False)\n",
    "area_target_training_data.to_csv('../../data/models/random_forest/rf_area_target_training_data.csv', index=False)\n",
    "area_feature_testing_data.to_csv('../../data/models/random_forest/rf_area_feature_testing_data.csv', index=False)\n",
    "area_target_testing_data.to_csv('../../data/models/random_forest/fr_area_target_testing_data.csv', index=False)"
   ]
  },
  {
   "cell_type": "markdown",
   "metadata": {},
   "source": [
    "##### XGBoost"
   ]
  },
  {
   "cell_type": "code",
   "execution_count": null,
   "metadata": {},
   "outputs": [],
   "source": [
    "district_feature_training_data.to_csv('../../data/models/xgboost/xg_district_feature_training_data.csv', index=False)\n",
    "district_target_training_data.to_csv('../../data/models/xgboost/xg_district_target_training_data.csv', index=False)\n",
    "district_feature_testing_data.to_csv('../../data/models/xgboost/xg_district_feature_testing_data.csv', index=False)\n",
    "district_target_testing_data.to_csv('../../data/models/xgboost/xg_district_target_testing_data.csv', index=False)"
   ]
  },
  {
   "cell_type": "code",
   "execution_count": null,
   "metadata": {},
   "outputs": [],
   "source": [
    "area_feature_training_data.to_csv('../../data/models/xgboost/xg_area_feature_training_data.csv', index=False)\n",
    "area_target_training_data.to_csv('../../data/models/xgboost/xg_area_target_training_data.csv', index=False)\n",
    "area_feature_testing_data.to_csv('../../data/models/xgboost/xg_area_feature_testing_data.csv', index=False)\n",
    "area_target_testing_data.to_csv('../../data/models/xgboost/xg_area_target_testing_data.csv', index=False)"
   ]
  },
  {
   "cell_type": "markdown",
   "metadata": {},
   "source": [
    "##### ARIMA "
   ]
  },
  {
   "cell_type": "code",
   "execution_count": null,
   "metadata": {},
   "outputs": [],
   "source": [
    "# PCA\n"
   ]
  },
  {
   "cell_type": "markdown",
   "metadata": {},
   "source": [
    "##### VAR"
   ]
  },
  {
   "cell_type": "code",
   "execution_count": null,
   "metadata": {},
   "outputs": [],
   "source": [
    "# Granger Causality Tests\n"
   ]
  },
  {
   "cell_type": "markdown",
   "metadata": {},
   "source": [
    "##### LSTM"
   ]
  },
  {
   "cell_type": "code",
   "execution_count": null,
   "metadata": {},
   "outputs": [],
   "source": [
    "# Pearson's Correlation\n"
   ]
  }
 ],
 "metadata": {
  "kernelspec": {
   "display_name": "Python 3 (ipykernel)",
   "language": "python",
   "name": "python3"
  }
 },
 "nbformat": 4,
 "nbformat_minor": 2
}
