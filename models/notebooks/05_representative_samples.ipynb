{
 "cells": [
  {
   "cell_type": "code",
   "execution_count": 1,
   "metadata": {},
   "outputs": [],
   "source": [
    "import pandas as pd\n",
    "import numpy as np"
   ]
  },
  {
   "cell_type": "code",
   "execution_count": 2,
   "metadata": {},
   "outputs": [],
   "source": [
    "area_pre_feature_selection = pd.read_csv('../../data/pre_training/area_pre_feature_selection.csv')\n",
    "district_pre_feature_selection = pd.read_csv('../../data/pre_training/district_pre_feature_selection.csv')"
   ]
  },
  {
   "cell_type": "code",
   "execution_count": 4,
   "metadata": {},
   "outputs": [
    {
     "data": {
      "text/html": [
       "<div>\n",
       "<style scoped>\n",
       "    .dataframe tbody tr th:only-of-type {\n",
       "        vertical-align: middle;\n",
       "    }\n",
       "\n",
       "    .dataframe tbody tr th {\n",
       "        vertical-align: top;\n",
       "    }\n",
       "\n",
       "    .dataframe thead th {\n",
       "        text-align: right;\n",
       "    }\n",
       "</style>\n",
       "<table border=\"1\" class=\"dataframe\">\n",
       "  <thead>\n",
       "    <tr style=\"text-align: right;\">\n",
       "      <th></th>\n",
       "      <th>area_id</th>\n",
       "      <th>date_hour</th>\n",
       "      <th>day</th>\n",
       "      <th>hour</th>\n",
       "      <th>year</th>\n",
       "      <th>month</th>\n",
       "      <th>day_of_week</th>\n",
       "      <th>area_unemployment</th>\n",
       "      <th>area_per_capita_income</th>\n",
       "      <th>area_no_hs_dip</th>\n",
       "      <th>...</th>\n",
       "      <th>district_crimes_3_hours_prev</th>\n",
       "      <th>district_crimes_6_hours_prev</th>\n",
       "      <th>district_crimes_12_hours_prev</th>\n",
       "      <th>district_crimes_24_hours_prev</th>\n",
       "      <th>area_crimes_this_hour</th>\n",
       "      <th>area_crimes_1_hours_prev</th>\n",
       "      <th>area_crimes_3_hours_prev</th>\n",
       "      <th>area_crimes_6_hours_prev</th>\n",
       "      <th>area_crimes_12_hours_prev</th>\n",
       "      <th>area_crimes_24_hours_prev</th>\n",
       "    </tr>\n",
       "  </thead>\n",
       "  <tbody>\n",
       "    <tr>\n",
       "      <th>0</th>\n",
       "      <td>1</td>\n",
       "      <td>2016-01-01 00:00:00</td>\n",
       "      <td>1</td>\n",
       "      <td>0</td>\n",
       "      <td>2016</td>\n",
       "      <td>1</td>\n",
       "      <td>4</td>\n",
       "      <td>0.092179</td>\n",
       "      <td>0.193048</td>\n",
       "      <td>0.272401</td>\n",
       "      <td>...</td>\n",
       "      <td>0.013333</td>\n",
       "      <td>0.060086</td>\n",
       "      <td>0.084677</td>\n",
       "      <td>0.126812</td>\n",
       "      <td>0.00463</td>\n",
       "      <td>0.00000</td>\n",
       "      <td>0.000000</td>\n",
       "      <td>0.000000</td>\n",
       "      <td>0.000000</td>\n",
       "      <td>0.000000</td>\n",
       "    </tr>\n",
       "    <tr>\n",
       "      <th>1</th>\n",
       "      <td>1</td>\n",
       "      <td>2016-01-01 00:00:00</td>\n",
       "      <td>1</td>\n",
       "      <td>0</td>\n",
       "      <td>2016</td>\n",
       "      <td>1</td>\n",
       "      <td>4</td>\n",
       "      <td>0.092179</td>\n",
       "      <td>0.193048</td>\n",
       "      <td>0.272401</td>\n",
       "      <td>...</td>\n",
       "      <td>0.013333</td>\n",
       "      <td>0.060086</td>\n",
       "      <td>0.084677</td>\n",
       "      <td>0.126812</td>\n",
       "      <td>0.00463</td>\n",
       "      <td>0.00000</td>\n",
       "      <td>0.000000</td>\n",
       "      <td>0.000000</td>\n",
       "      <td>0.000000</td>\n",
       "      <td>0.000000</td>\n",
       "    </tr>\n",
       "    <tr>\n",
       "      <th>2</th>\n",
       "      <td>1</td>\n",
       "      <td>2016-01-01 00:00:00</td>\n",
       "      <td>1</td>\n",
       "      <td>0</td>\n",
       "      <td>2016</td>\n",
       "      <td>1</td>\n",
       "      <td>4</td>\n",
       "      <td>0.092179</td>\n",
       "      <td>0.193048</td>\n",
       "      <td>0.272401</td>\n",
       "      <td>...</td>\n",
       "      <td>0.013333</td>\n",
       "      <td>0.060086</td>\n",
       "      <td>0.084677</td>\n",
       "      <td>0.126812</td>\n",
       "      <td>0.00463</td>\n",
       "      <td>0.00000</td>\n",
       "      <td>0.000000</td>\n",
       "      <td>0.000000</td>\n",
       "      <td>0.000000</td>\n",
       "      <td>0.000000</td>\n",
       "    </tr>\n",
       "    <tr>\n",
       "      <th>3</th>\n",
       "      <td>1</td>\n",
       "      <td>2016-01-01 00:00:00</td>\n",
       "      <td>1</td>\n",
       "      <td>0</td>\n",
       "      <td>2016</td>\n",
       "      <td>1</td>\n",
       "      <td>4</td>\n",
       "      <td>0.092179</td>\n",
       "      <td>0.193048</td>\n",
       "      <td>0.272401</td>\n",
       "      <td>...</td>\n",
       "      <td>0.013333</td>\n",
       "      <td>0.060086</td>\n",
       "      <td>0.084677</td>\n",
       "      <td>0.126812</td>\n",
       "      <td>0.00463</td>\n",
       "      <td>0.00000</td>\n",
       "      <td>0.000000</td>\n",
       "      <td>0.000000</td>\n",
       "      <td>0.000000</td>\n",
       "      <td>0.000000</td>\n",
       "    </tr>\n",
       "    <tr>\n",
       "      <th>4</th>\n",
       "      <td>1</td>\n",
       "      <td>2016-01-01 01:00:00</td>\n",
       "      <td>1</td>\n",
       "      <td>1</td>\n",
       "      <td>2016</td>\n",
       "      <td>1</td>\n",
       "      <td>4</td>\n",
       "      <td>0.092179</td>\n",
       "      <td>0.193048</td>\n",
       "      <td>0.272401</td>\n",
       "      <td>...</td>\n",
       "      <td>0.008889</td>\n",
       "      <td>0.008584</td>\n",
       "      <td>0.008065</td>\n",
       "      <td>0.007246</td>\n",
       "      <td>0.00463</td>\n",
       "      <td>0.00463</td>\n",
       "      <td>0.004566</td>\n",
       "      <td>0.004484</td>\n",
       "      <td>0.004348</td>\n",
       "      <td>0.004016</td>\n",
       "    </tr>\n",
       "  </tbody>\n",
       "</table>\n",
       "<p>5 rows × 85 columns</p>\n",
       "</div>"
      ],
      "text/plain": [
       "   area_id            date_hour  day  hour  year  month  day_of_week  \\\n",
       "0        1  2016-01-01 00:00:00    1     0  2016      1            4   \n",
       "1        1  2016-01-01 00:00:00    1     0  2016      1            4   \n",
       "2        1  2016-01-01 00:00:00    1     0  2016      1            4   \n",
       "3        1  2016-01-01 00:00:00    1     0  2016      1            4   \n",
       "4        1  2016-01-01 01:00:00    1     1  2016      1            4   \n",
       "\n",
       "   area_unemployment  area_per_capita_income  area_no_hs_dip  ...  \\\n",
       "0           0.092179                0.193048        0.272401  ...   \n",
       "1           0.092179                0.193048        0.272401  ...   \n",
       "2           0.092179                0.193048        0.272401  ...   \n",
       "3           0.092179                0.193048        0.272401  ...   \n",
       "4           0.092179                0.193048        0.272401  ...   \n",
       "\n",
       "   district_crimes_3_hours_prev  district_crimes_6_hours_prev  \\\n",
       "0                      0.013333                      0.060086   \n",
       "1                      0.013333                      0.060086   \n",
       "2                      0.013333                      0.060086   \n",
       "3                      0.013333                      0.060086   \n",
       "4                      0.008889                      0.008584   \n",
       "\n",
       "   district_crimes_12_hours_prev  district_crimes_24_hours_prev  \\\n",
       "0                       0.084677                       0.126812   \n",
       "1                       0.084677                       0.126812   \n",
       "2                       0.084677                       0.126812   \n",
       "3                       0.084677                       0.126812   \n",
       "4                       0.008065                       0.007246   \n",
       "\n",
       "   area_crimes_this_hour  area_crimes_1_hours_prev  area_crimes_3_hours_prev  \\\n",
       "0                0.00463                   0.00000                  0.000000   \n",
       "1                0.00463                   0.00000                  0.000000   \n",
       "2                0.00463                   0.00000                  0.000000   \n",
       "3                0.00463                   0.00000                  0.000000   \n",
       "4                0.00463                   0.00463                  0.004566   \n",
       "\n",
       "   area_crimes_6_hours_prev  area_crimes_12_hours_prev  \\\n",
       "0                  0.000000                   0.000000   \n",
       "1                  0.000000                   0.000000   \n",
       "2                  0.000000                   0.000000   \n",
       "3                  0.000000                   0.000000   \n",
       "4                  0.004484                   0.004348   \n",
       "\n",
       "   area_crimes_24_hours_prev  \n",
       "0                   0.000000  \n",
       "1                   0.000000  \n",
       "2                   0.000000  \n",
       "3                   0.000000  \n",
       "4                   0.004016  \n",
       "\n",
       "[5 rows x 85 columns]"
      ]
     },
     "execution_count": 4,
     "metadata": {},
     "output_type": "execute_result"
    }
   ],
   "source": [
    "area_pre_feature_selection.head()"
   ]
  },
  {
   "cell_type": "code",
   "execution_count": 3,
   "metadata": {},
   "outputs": [],
   "source": [
    "area_features = area_pre_feature_selection.drop('area_crimes_this_hour', axis=1)\n",
    "district_features = district_pre_feature_selection.drop('district_crimes_this_hour', axis=1)\n",
    "\n",
    "area_target = area_pre_feature_selection[['year', 'area_crimes_this_hour']]\n",
    "district_target = district_pre_feature_selection[['year', 'district_crimes_this_hour']]"
   ]
  },
  {
   "cell_type": "code",
   "execution_count": 4,
   "metadata": {},
   "outputs": [],
   "source": [
    "# break the area dataset into testing and training datasets\n",
    "area_feature_training_data = area_features[area_features['year'] < 2020].reset_index(drop=True)\n",
    "area_feature_testing_data = area_features[area_features['year'] == 2020].reset_index(drop=True)\n",
    "\n",
    "area_target_training_data = area_target[area_target['year'] < 2020].reset_index(drop=True)\n",
    "area_target_testing_data = area_target[area_target['year'] == 2020].reset_index(drop=True)"
   ]
  },
  {
   "cell_type": "code",
   "execution_count": 5,
   "metadata": {},
   "outputs": [],
   "source": [
    "# break the district dataset into testing and training datasets\n",
    "district_feature_training_data = district_features[district_features['year'] < 2020].reset_index(drop=True)\n",
    "district_feature_testing_data = district_features[district_features['year'] == 2020].reset_index(drop=True)\n",
    "\n",
    "district_target_training_data = district_target[district_target['year'] < 2020].reset_index(drop=True)\n",
    "district_target_testing_data = district_target[district_target['year'] == 2020].reset_index(drop=True)"
   ]
  },
  {
   "cell_type": "code",
   "execution_count": 6,
   "metadata": {},
   "outputs": [],
   "source": [
    "area_target_training_data = area_target_training_data.drop('year', axis=1)\n",
    "area_target_testing_data = area_target_testing_data.drop('year', axis=1)\n",
    "district_target_training_data = district_target_training_data.drop('year', axis=1)\n",
    "district_target_testing_data = district_target_testing_data.drop('year', axis=1)"
   ]
  },
  {
   "cell_type": "code",
   "execution_count": 7,
   "metadata": {},
   "outputs": [],
   "source": [
    "area_feature_training_data = area_feature_training_data.drop('date_hour', axis=1)\n",
    "area_feature_testing_data = area_feature_testing_data.drop('date_hour', axis=1)\n",
    "\n",
    "district_feature_training_data = district_feature_training_data.drop('date_hour', axis=1)\n",
    "district_feature_testing_data = district_feature_testing_data.drop('date_hour', axis=1)"
   ]
  },
  {
   "cell_type": "code",
   "execution_count": 8,
   "metadata": {},
   "outputs": [],
   "source": [
    "# target encoding of district/area columns\n",
    "area_means = area_pre_feature_selection.groupby('area_id')['area_crimes_this_hour'].mean()\n",
    "district_means = district_pre_feature_selection.groupby('district')['district_crimes_this_hour'].mean()\n",
    "\n",
    "area_feature_training_data['area_id_target_encoded'] = area_feature_training_data['area_id'].map(area_means)\n",
    "area_feature_testing_data['area_id_target_encoded'] = area_feature_testing_data['area_id'].map(area_means)\n",
    "\n",
    "district_feature_training_data['district_target_encoded'] = district_feature_training_data['district'].map(district_means)\n",
    "district_feature_testing_data['district_target_encoded'] = district_feature_testing_data['district'].map(district_means)"
   ]
  },
  {
   "cell_type": "code",
   "execution_count": 9,
   "metadata": {},
   "outputs": [],
   "source": [
    "# frequency encoding of district/area columns\n",
    "area_freq = area_pre_feature_selection['area_id'].value_counts() / len(area_pre_feature_selection)\n",
    "district_freq = district_pre_feature_selection['district'].value_counts() / len(district_pre_feature_selection)\n",
    "\n",
    "area_feature_training_data['area_id_freq_encoded'] = area_feature_training_data['area_id'].map(area_freq)\n",
    "area_feature_testing_data['area_id_freq_encoded'] = area_feature_testing_data['area_id'].map(area_freq)\n",
    "\n",
    "district_feature_training_data['district_freq_encoded'] = district_feature_training_data['district'].map(district_freq)\n",
    "district_feature_testing_data['district_freq_encoded'] = district_feature_testing_data['district'].map(district_freq)"
   ]
  },
  {
   "cell_type": "code",
   "execution_count": 10,
   "metadata": {},
   "outputs": [],
   "source": [
    "area_feature_training_data.drop('area_id', axis=1, inplace=True)\n",
    "area_feature_testing_data.drop('area_id', axis=1, inplace=True)\n",
    "\n",
    "district_feature_training_data.drop('district', axis=1, inplace=True)\n",
    "district_feature_testing_data.drop('district', axis=1, inplace=True)"
   ]
  },
  {
   "cell_type": "code",
   "execution_count": 11,
   "metadata": {},
   "outputs": [],
   "source": [
    "def patch_datatypes(df):\n",
    "    float_cols = df.select_dtypes(include=['float64']).columns\n",
    "    df[float_cols] = df[float_cols].astype(np.float32)\n",
    "\n",
    "    int_cols = df.select_dtypes(include=['int64']).columns\n",
    "    df[int_cols] = df[int_cols].astype(np.int32)    \n",
    "      \n",
    "    return df"
   ]
  },
  {
   "cell_type": "code",
   "execution_count": 12,
   "metadata": {},
   "outputs": [
    {
     "data": {
      "text/plain": [
       "(10659456, 84)"
      ]
     },
     "execution_count": 12,
     "metadata": {},
     "output_type": "execute_result"
    }
   ],
   "source": [
    "area_feature_training_data = patch_datatypes(area_feature_training_data)\n",
    "area_feature_training_data.shape"
   ]
  },
  {
   "cell_type": "code",
   "execution_count": 13,
   "metadata": {},
   "outputs": [
    {
     "data": {
      "text/plain": [
       "(2670336, 84)"
      ]
     },
     "execution_count": 13,
     "metadata": {},
     "output_type": "execute_result"
    }
   ],
   "source": [
    "area_feature_testing_data = patch_datatypes(area_feature_testing_data)\n",
    "area_feature_testing_data.shape"
   ]
  },
  {
   "cell_type": "code",
   "execution_count": 14,
   "metadata": {},
   "outputs": [
    {
     "data": {
      "text/plain": [
       "(806472, 83)"
      ]
     },
     "execution_count": 14,
     "metadata": {},
     "output_type": "execute_result"
    }
   ],
   "source": [
    "district_feature_training_data = patch_datatypes(district_feature_training_data)\n",
    "district_feature_training_data.shape"
   ]
  },
  {
   "cell_type": "code",
   "execution_count": 15,
   "metadata": {},
   "outputs": [
    {
     "data": {
      "text/plain": [
       "(202032, 83)"
      ]
     },
     "execution_count": 15,
     "metadata": {},
     "output_type": "execute_result"
    }
   ],
   "source": [
    "district_feature_testing_data = patch_datatypes(district_feature_testing_data)\n",
    "district_feature_testing_data.shape"
   ]
  },
  {
   "cell_type": "markdown",
   "metadata": {},
   "source": [
    "##### Selecting a Representative Sample"
   ]
  },
  {
   "cell_type": "code",
   "execution_count": 16,
   "metadata": {},
   "outputs": [],
   "source": [
    "area_training_combined = pd.concat([area_feature_training_data, area_target_training_data], axis=1)\n",
    "district_training_combined = pd.concat([district_feature_training_data, district_target_training_data], axis=1)"
   ]
  },
  {
   "cell_type": "code",
   "execution_count": 17,
   "metadata": {},
   "outputs": [],
   "source": [
    "area_training_combined['crime_status'] = area_training_combined['area_crimes_this_hour'] > 0\n",
    "district_training_combined['crime_status'] = district_training_combined['district_crimes_this_hour'] > 0"
   ]
  },
  {
   "cell_type": "code",
   "execution_count": 18,
   "metadata": {},
   "outputs": [],
   "source": [
    "area_training_combined_false = area_training_combined[area_training_combined['crime_status'] == False].reset_index(drop=True)\n",
    "area_training_combined_true = area_training_combined[area_training_combined['crime_status'] == True].reset_index(drop=True)\n",
    "\n",
    "district_training_combined_false = district_training_combined[district_training_combined['crime_status'] == False].reset_index(drop=True)\n",
    "district_training_combined_true = district_training_combined[district_training_combined['crime_status'] == True].reset_index(drop=True)"
   ]
  },
  {
   "cell_type": "code",
   "execution_count": 19,
   "metadata": {},
   "outputs": [],
   "source": [
    "# Sturges' formula to determine the number of bins\n",
    "def sturges_formula(n):\n",
    "    return int(np.ceil(np.log2(n) + 1))"
   ]
  },
  {
   "cell_type": "code",
   "execution_count": 20,
   "metadata": {},
   "outputs": [],
   "source": [
    "def bin_dataframe(df, exempt, bins):\n",
    "    binned_df = pd.DataFrame()\n",
    "    for col in df.columns:\n",
    "        if col not in exempt:\n",
    "            binned_df[col] = pd.cut(df[col], bins=bins, labels=False)\n",
    "        else:\n",
    "            binned_df[col] = df[col]\n",
    "    \n",
    "    return binned_df"
   ]
  },
  {
   "cell_type": "code",
   "execution_count": 21,
   "metadata": {},
   "outputs": [],
   "source": [
    "area_false_bins = sturges_formula(len(area_training_combined_false))\n",
    "area_true_bins = sturges_formula(len(area_training_combined_true))\n",
    "\n",
    "district_false_bins = sturges_formula(len(district_training_combined_false))\n",
    "district_true_bins = sturges_formula(len(district_training_combined_true))"
   ]
  },
  {
   "cell_type": "code",
   "execution_count": 22,
   "metadata": {},
   "outputs": [
    {
     "name": "stdout",
     "output_type": "stream",
     "text": [
      "(1544337, 86) (288624, 85)\n"
     ]
    }
   ],
   "source": [
    "print(area_training_combined_true.shape, district_training_combined_true.shape)"
   ]
  },
  {
   "cell_type": "code",
   "execution_count": 23,
   "metadata": {},
   "outputs": [],
   "source": [
    "area_training_combined_false_binned = bin_dataframe(area_training_combined_false, ['day', 'hour', 'year', 'month', 'day_of_week', 'crime_status', 'area_id_target_encoded', 'area_id_freq_encoded'], area_false_bins)"
   ]
  },
  {
   "cell_type": "code",
   "execution_count": 24,
   "metadata": {},
   "outputs": [],
   "source": [
    "area_training_combined_false_binned['combined'] = area_training_combined_false_binned.apply(lambda row: tuple(row), axis=1)\n",
    "area_combined_false_weight = area_training_combined_false_binned['combined'].value_counts(normalize=True)\n",
    "area_training_combined_false_binned['combined_weight'] = area_training_combined_false_binned['combined'].apply(lambda x: area_combined_false_weight[x])\n",
    "area_training_combined_false_binned_sample = area_training_combined_false_binned.sample(n=len(area_training_combined_true), weights=area_training_combined_false_binned['combined_weight']).drop(['combined', 'combined_weight'], axis=1).reset_index()\n",
    "area_training_false_sample = area_training_combined_false.loc[area_training_combined_false_binned_sample.index]"
   ]
  },
  {
   "cell_type": "code",
   "execution_count": 25,
   "metadata": {},
   "outputs": [],
   "source": [
    "district_training_combined_false_binned = bin_dataframe(district_training_combined_false, ['day', 'hour', 'year', 'month', 'day_of_week', 'crime_status', 'district_id_target_encoded', 'district_id_freq_encoded'], district_false_bins)"
   ]
  },
  {
   "cell_type": "code",
   "execution_count": 26,
   "metadata": {},
   "outputs": [],
   "source": [
    "district_training_combined_false_binned['combined'] = district_training_combined_false_binned.apply(lambda row: tuple(row), axis=1)\n",
    "district_combined_false_weight = district_training_combined_false_binned['combined'].value_counts(normalize=True)\n",
    "district_training_combined_false_binned['combined_weight'] = district_training_combined_false_binned['combined'].apply(lambda x: district_combined_false_weight[x])\n",
    "district_training_combined_false_binned_sample = district_training_combined_false_binned.sample(n=len(district_training_combined_true), weights=district_training_combined_false_binned['combined_weight']).drop(['combined', 'combined_weight'], axis=1).reset_index()\n",
    "district_training_false_sample = district_training_combined_false.loc[district_training_combined_false_binned_sample.index]"
   ]
  },
  {
   "cell_type": "code",
   "execution_count": 27,
   "metadata": {},
   "outputs": [],
   "source": [
    "area_training_sample = pd.concat([area_training_false_sample, area_training_combined_true])\n",
    "area_training_sample = area_training_sample.sample(frac=1).reset_index(drop=True)"
   ]
  },
  {
   "cell_type": "code",
   "execution_count": 28,
   "metadata": {},
   "outputs": [],
   "source": [
    "district_training_sample = pd.concat([district_training_false_sample, district_training_combined_true])\n",
    "district_training_sample = district_training_sample.sample(frac=1).reset_index(drop=True)"
   ]
  },
  {
   "cell_type": "code",
   "execution_count": 29,
   "metadata": {},
   "outputs": [],
   "source": [
    "area_feature_training_sample = area_training_sample.drop('area_crimes_this_hour', axis=1)\n",
    "area_target_training_sample = area_training_sample[['area_crimes_this_hour']]\n",
    "\n",
    "district_feature_training_sample = district_training_sample.drop('district_crimes_this_hour', axis=1)\n",
    "district_target_training_sample = district_training_sample[['district_crimes_this_hour']]"
   ]
  },
  {
   "cell_type": "code",
   "execution_count": null,
   "metadata": {},
   "outputs": [],
   "source": [
    "area_feature_training_sample.to_csv('../../data/pre_training/area_feature_training_sample.csv', index=False)\n",
    "area_target_training_sample.to_csv('../../data/pre_training/area_target_training_sample.csv', index=False)\n",
    "district_feature_training_sample.to_csv('../../data/pre_training/district_feature_training_sample.csv', index=False)\n",
    "district_target_training_sample.to_csv('../../data/pre_training/district_target_training_sample.csv', index=False)"
   ]
  },
  {
   "cell_type": "code",
   "execution_count": null,
   "metadata": {},
   "outputs": [],
   "source": [
    "area_feature_testing_data.to_csv('../../data/pre_training/area_feature_testing_data.csv', index=False)\n",
    "area_target_testing_data.to_csv('../../data/pre_training/area_target_testing_data.csv', index=False)\n",
    "district_feature_testing_data.to_csv('../../data/pre_training/district_feature_testing_data.csv', index=False)\n",
    "district_target_testing_data.to_csv('../../data/pre_training/district_target_testing_data.csv', index=False)"
   ]
  }
 ],
 "metadata": {
  "kernelspec": {
   "display_name": "Python 3 (ipykernel)",
   "language": "python",
   "name": "python3"
  },
  "language_info": {
   "codemirror_mode": {
    "name": "ipython",
    "version": 3
   },
   "file_extension": ".py",
   "mimetype": "text/x-python",
   "name": "python",
   "nbconvert_exporter": "python",
   "pygments_lexer": "ipython3",
   "version": "3.12.4"
  }
 },
 "nbformat": 4,
 "nbformat_minor": 2
}
