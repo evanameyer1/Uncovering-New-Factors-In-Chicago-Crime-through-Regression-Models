{
 "cells": [
  {
   "cell_type": "code",
   "execution_count": null,
   "metadata": {},
   "outputs": [],
   "source": [
    "import pandas as pd\n",
    "import numpy as np\n",
    "from numpy import sort\n",
    "from sklearn.feature_selection import SelectFromModel\n",
    "from sklearn.model_selection import GridSearchCV\n",
    "import xgboost as xgb\n",
    "from sklearn.metrics import accuracy_score"
   ]
  },
  {
   "cell_type": "code",
   "execution_count": null,
   "metadata": {},
   "outputs": [],
   "source": [
    "area_pre_feature_selection = pd.read_csv('../../data/pre_training/area_pre_feature_selection.csv')\n",
    "district_pre_feature_selection = pd.read_csv('../../data/pre_training/district_pre_feature_selection.csv')"
   ]
  },
  {
   "cell_type": "code",
   "execution_count": null,
   "metadata": {},
   "outputs": [],
   "source": [
    "area_features = area_pre_feature_selection.drop('area_crimes_this_hour', axis=1)\n",
    "district_features = district_pre_feature_selection.drop('district_crimes_this_hour', axis=1)\n",
    "\n",
    "area_target = area_pre_feature_selection[['year', 'area_crimes_this_hour']]\n",
    "district_target = district_pre_feature_selection[['year', 'district_crimes_this_hour']]"
   ]
  },
  {
   "cell_type": "code",
   "execution_count": null,
   "metadata": {},
   "outputs": [],
   "source": [
    "# break the area dataset into testing and training datasets\n",
    "area_feature_training_data = area_features[area_features['year'] < 2020].reset_index(drop=True)\n",
    "area_feature_testing_data = area_features[area_features['year'] == 2020].reset_index(drop=True)\n",
    "\n",
    "area_target_training_data = area_target[area_target['year'] < 2020].reset_index(drop=True)\n",
    "area_target_testing_data = area_target[area_target['year'] == 2020].reset_index(drop=True)"
   ]
  },
  {
   "cell_type": "code",
   "execution_count": null,
   "metadata": {},
   "outputs": [],
   "source": [
    "# break the district dataset into testing and training datasets\n",
    "district_feature_training_data = district_features[district_features['year'] < 2020].reset_index(drop=True)\n",
    "district_feature_testing_data = district_features[district_features['year'] == 2020].reset_index(drop=True)\n",
    "\n",
    "district_target_training_data = district_target[district_target['year'] < 2020].reset_index(drop=True)\n",
    "district_target_testing_data = district_target[district_target['year'] == 2020].reset_index(drop=True)"
   ]
  },
  {
   "cell_type": "code",
   "execution_count": null,
   "metadata": {},
   "outputs": [],
   "source": [
    "area_target_training_data = area_target_training_data.drop('year', axis=1)\n",
    "area_target_testing_data = area_target_testing_data.drop('year', axis=1)\n",
    "district_target_training_data = district_target_training_data.drop('year', axis=1)\n",
    "district_target_testing_data = district_target_testing_data.drop('year', axis=1)"
   ]
  },
  {
   "cell_type": "code",
   "execution_count": null,
   "metadata": {},
   "outputs": [],
   "source": [
    "xgb_area_feature_training_data = area_feature_training_data.drop('date_hour', axis=1)\n",
    "xgb_area_feature_testing_data = area_feature_testing_data.drop('date_hour', axis=1)\n",
    "\n",
    "xgb_district_feature_training_data = district_feature_training_data.drop('date_hour', axis=1)\n",
    "xgb_district_feature_testing_data = district_feature_testing_data.drop('date_hour', axis=1)"
   ]
  },
  {
   "cell_type": "code",
   "execution_count": null,
   "metadata": {},
   "outputs": [],
   "source": [
    "def patch_datatypes(df):\n",
    "    float_cols = df.select_dtypes(include=['float64']).columns\n",
    "    df[float_cols] = df[float_cols].astype(np.float32)\n",
    "\n",
    "    int_cols = df.select_dtypes(include=['int64']).columns\n",
    "    df[int_cols] = df[int_cols].astype(np.int32)    \n",
    "\n",
    "    cats = df.select_dtypes(exclude=np.number).columns.tolist()\n",
    "\n",
    "    for col in cats:\n",
    "        df[col] = df[col].astype('category')\n",
    "      \n",
    "    return df"
   ]
  },
  {
   "cell_type": "code",
   "execution_count": null,
   "metadata": {},
   "outputs": [],
   "source": [
    "xgb_area_feature_training_data = patch_datatypes(xgb_area_feature_training_data)"
   ]
  },
  {
   "cell_type": "code",
   "execution_count": null,
   "metadata": {},
   "outputs": [],
   "source": [
    "xgb_area_feature_testing_data = patch_datatypes(xgb_area_feature_testing_data)"
   ]
  },
  {
   "cell_type": "code",
   "execution_count": null,
   "metadata": {},
   "outputs": [],
   "source": [
    "xgb_district_feature_training_data = patch_datatypes(xgb_district_feature_training_data)"
   ]
  },
  {
   "cell_type": "code",
   "execution_count": null,
   "metadata": {},
   "outputs": [],
   "source": [
    "xgb_district_feature_testing_data = patch_datatypes(xgb_district_feature_testing_data)"
   ]
  },
  {
   "cell_type": "code",
   "execution_count": null,
   "metadata": {},
   "outputs": [],
   "source": [
    "area_dtrain_reg = xgb.DMatrix(xgb_area_feature_training_data, area_target_training_data, enable_categorical=True)\n",
    "area_dtest_reg = xgb.DMatrix(xgb_area_feature_testing_data, area_target_testing_data, enable_categorical=True)"
   ]
  },
  {
   "cell_type": "code",
   "execution_count": null,
   "metadata": {},
   "outputs": [],
   "source": [
    "district_dtrain_reg = xgb.DMatrix(xgb_district_feature_training_data, district_target_training_data, enable_categorical=True)\n",
    "district_dtest_reg = xgb.DMatrix(xgb_district_feature_testing_data, district_target_testing_data, enable_categorical=True)"
   ]
  },
  {
   "cell_type": "markdown",
   "metadata": {},
   "source": [
    "##### Training the Area XGBoost Model"
   ]
  },
  {
   "cell_type": "code",
   "execution_count": 1,
   "metadata": {},
   "outputs": [],
   "source": [
    "params = {\"objective\": \"reg:squarederror\", \"tree_method\": \"gpu_hist\", \"eta\": 0.01}\n",
    "evals = [(area_dtest_reg, \"validation\"), (area_dtrain_reg, \"train\")]"
   ]
  },
  {
   "cell_type": "code",
   "execution_count": null,
   "metadata": {},
   "outputs": [],
   "source": [
    "area_model = xgb.train(\n",
    "   params=params,\n",
    "   dtrain=area_dtrain_reg,\n",
    "   num_boost_round=100000,\n",
    "   evals=evals,\n",
    "   verbose_eval=50,\n",
    "   early_stopping_rounds=50\n",
    ")"
   ]
  },
  {
   "cell_type": "code",
   "execution_count": null,
   "metadata": {},
   "outputs": [],
   "source": [
    "district_model = xgb.train(\n",
    "   params=params,\n",
    "   dtrain=district_dtrain_reg,\n",
    "   num_boost_round=100000,\n",
    "   evals=evals,\n",
    "   verbose_eval=50,\n",
    "   early_stopping_rounds=50\n",
    ")"
   ]
  },
  {
   "cell_type": "code",
   "execution_count": null,
   "metadata": {},
   "outputs": [],
   "source": [
    "area_cv_results = xgb.cv(\n",
    "   params=params,\n",
    "   dtrain=area_dtrain_reg,\n",
    "   num_boost_round=100000,\n",
    "   verbose_eval=50,\n",
    "   early_stopping_rounds=50,\n",
    "   nfolds=10\n",
    ")"
   ]
  },
  {
   "cell_type": "code",
   "execution_count": null,
   "metadata": {},
   "outputs": [],
   "source": [
    "district_cv_results = xgb.cv(\n",
    "   params=params,\n",
    "   dtrain=district_dtrain_reg,\n",
    "   num_boost_round=100000,\n",
    "   verbose_eval=50,\n",
    "   early_stopping_rounds=50,\n",
    "   nfolds=10\n",
    ")"
   ]
  },
  {
   "cell_type": "code",
   "execution_count": null,
   "metadata": {},
   "outputs": [],
   "source": [
    "# Calculate initial accuracy\n",
    "area_y_pred = area_model.predict(xgb_area_feature_testing_data)\n",
    "area_accuracy = accuracy_score(area_target_testing_data, area_y_pred)\n",
    "\n",
    "print(f\"Initial Accuracy: {area_accuracy:.4f}\")"
   ]
  },
  {
   "cell_type": "code",
   "execution_count": null,
   "metadata": {},
   "outputs": [],
   "source": [
    "area_thresholds = sort(area_model.feature_importances_)\n",
    "# Initialize variables to store the best results\n",
    "area_best_accuracy = area_accuracy\n",
    "area_best_thresh = None\n",
    "area_best_features = None"
   ]
  },
  {
   "cell_type": "code",
   "execution_count": null,
   "metadata": {},
   "outputs": [],
   "source": [
    "# Iterate over thresholds to find the best feature set\n",
    "for thresh in area_thresholds:\n",
    "    # Select features using the threshold\n",
    "    area_selection = SelectFromModel(area_model, threshold=thresh, prefit=True)\n",
    "    area_select_X_train = area_selection.transform(xgb_area_feature_training_data)\n",
    "\n",
    "    # Train the new model with selected features\n",
    "    area_selection_model = XGBClassifier(n_estimators=100, max_depth=6, learning_rate=0.1)\n",
    "    area_selection_model.fit(area_select_X_train, area_target_training_data)\n",
    "\n",
    "    # Evaluate the new model\n",
    "    area_select_X_test = area_selection.transform(xgb_area_feature_testing_data)\n",
    "    area_predictions = area_selection_model.predict(area_select_X_test)\n",
    "    area_accuracy = accuracy_score(area_target_testing_data, area_predictions)\n",
    "    \n",
    "    # Print the results for the current threshold\n",
    "    print(f\"Thresh={thresh:.3f}, n={area_select_X_train.shape[1]}, Accuracy: {area_accuracy*100.0:.2f}%\")\n",
    "    \n",
    "    # Update the best accuracy and corresponding features if improved\n",
    "    if area_accuracy > area_best_accuracy:\n",
    "        area_best_accuracy = area_accuracy\n",
    "        area_best_thresh = thresh\n",
    "        area_best_features = area_selection.get_support(indices=True)\n",
    "\n",
    "# Print the best threshold and corresponding accuracy\n",
    "print(f\"Best Thresh={area_best_thresh:.3f}, Best Accuracy: {area_best_accuracy*100.0:.2f}%\")\n",
    "print(f\"Best Features: {area_best_features}\")"
   ]
  },
  {
   "cell_type": "code",
   "execution_count": null,
   "metadata": {},
   "outputs": [],
   "source": [
    "xgb_area_feature_training_data = xgb_area_feature_training_data.iloc[:, area_best_features]\n",
    "xgb_area_feature_testing_data = xgb_area_feature_testing_data.iloc[:, area_best_features]"
   ]
  },
  {
   "cell_type": "markdown",
   "metadata": {},
   "source": [
    "##### Training the District XGBoost Model"
   ]
  },
  {
   "cell_type": "code",
   "execution_count": null,
   "metadata": {},
   "outputs": [],
   "source": [
    "district_model = XGBClassifier(n_estimators=100, max_depth=6, learning_rate=0.1)\n",
    "district_model.fit(xgb_district_feature_training_data, district_target_training_data.values.ravel())"
   ]
  },
  {
   "cell_type": "code",
   "execution_count": null,
   "metadata": {},
   "outputs": [],
   "source": [
    "district_y_pred = district_model.predict(xgb_district_feature_testing_data)\n",
    "district_accuracy = accuracy_score(district_target_testing_data, district_y_pred)\n",
    "print(f\"Accuracy: {district_accuracy:.4f}\")"
   ]
  },
  {
   "cell_type": "code",
   "execution_count": null,
   "metadata": {},
   "outputs": [],
   "source": [
    "# Determine thresholds based on feature importances\n",
    "district_thresholds = np.sort(district_model.feature_importances_)\n",
    "district_best_accuracy = district_accuracy\n",
    "district_best_thresh = None\n",
    "district_best_features = None"
   ]
  },
  {
   "cell_type": "code",
   "execution_count": null,
   "metadata": {},
   "outputs": [],
   "source": [
    "for thresh in district_thresholds:\n",
    "    # Select features using the threshold\n",
    "    district_selection = SelectFromModel(district_model, threshold=thresh, prefit=True)\n",
    "    district_select_X_train = district_selection.transform(xgb_district_feature_training_data)\n",
    "\n",
    "    # Train the new model with selected features\n",
    "    district_selection_model = XGBClassifier(n_estimators=100, max_depth=6, learning_rate=0.1)\n",
    "    district_selection_model.fit(district_select_X_train, district_target_training_data)\n",
    "\n",
    "    # Evaluate the new model\n",
    "    district_select_X_test = district_selection.transform(xgb_district_feature_testing_data)\n",
    "    district_predictions = district_selection_model.predict(district_select_X_test)\n",
    "    district_accuracy = accuracy_score(district_target_testing_data, district_predictions)\n",
    "    \n",
    "    # Print the results for the current threshold\n",
    "    print(f\"Thresh={thresh:.3f}, n={district_select_X_train.shape[1]}, Accuracy: {district_accuracy*100.0:.2f}%\")\n",
    "    \n",
    "    # Update the best accuracy and corresponding features if improved\n",
    "    if district_accuracy > district_best_accuracy:\n",
    "        district_best_accuracy = district_accuracy\n",
    "        district_best_thresh = thresh\n",
    "        district_best_features = district_selection.get_support(indices=True)\n",
    "\n",
    "# Print the best threshold and corresponding accuracy\n",
    "print(f\"Best Thresh={district_best_thresh:.3f}, Best Accuracy: {district_best_accuracy*100.0:.2f}%\")\n",
    "print(f\"Best Features: {district_best_features}\")"
   ]
  },
  {
   "cell_type": "code",
   "execution_count": null,
   "metadata": {},
   "outputs": [],
   "source": [
    "xgb_district_feature_training_data = xgb_district_feature_training_data.iloc[:, district_best_features]\n",
    "xgb_district_feature_testing_data = xgb_district_feature_testing_data.iloc[:, district_best_features]"
   ]
  },
  {
   "cell_type": "markdown",
   "metadata": {},
   "source": [
    "##### Hyperparameter Tuning"
   ]
  },
  {
   "cell_type": "code",
   "execution_count": null,
   "metadata": {},
   "outputs": [],
   "source": [
    "# Define the hyperparameter grid\n",
    "param_grid = {\n",
    "    'max_depth': [3, 5, 7],\n",
    "    'learning_rate': [0.1, 0.01, 0.001],\n",
    "    'subsample': [0.5, 0.7, 1]\n",
    "}"
   ]
  },
  {
   "cell_type": "code",
   "execution_count": null,
   "metadata": {},
   "outputs": [],
   "source": [
    "# Create the XGBoost model object\n",
    "area_xgb_model = xgb.XGBClassifier()\n",
    "\n",
    "# Create the GridSearchCV object\n",
    "area_grid_search = GridSearchCV(area_xgb_model, param_grid, cv=5, scoring='accuracy')\n",
    "\n",
    "# Fit the GridSearchCV object to the training data\n",
    "area_grid_search.fit(xgb_area_feature_training_data, xgb_area_feature_testing_data.values.ravel())\n",
    "\n",
    "# Print the best set of hyperparameters and the corresponding score\n",
    "print(\"Best set of hyperparameters: \", area_grid_search.best_params_)\n",
    "print(\"Best score: \", area_grid_search.best_score_)"
   ]
  },
  {
   "cell_type": "code",
   "execution_count": null,
   "metadata": {},
   "outputs": [],
   "source": [
    "# Create the XGBoost model object\n",
    "district_xgb_model = xgb.XGBClassifier()\n",
    "\n",
    "# Create the GridSearchCV object\n",
    "district_grid_search = GridSearchCV(area_xgb_model, param_grid, cv=5, scoring='accuracy')\n",
    "\n",
    "# Fit the GridSearchCV object to the training data\n",
    "district_grid_search.fit(xgb_district_feature_training_data, xgb_district_feature_testing_data.values.ravel())\n",
    "\n",
    "# Print the best set of hyperparameters and the corresponding score\n",
    "print(\"Best set of hyperparameters: \", district_grid_search.best_params_)\n",
    "print(\"Best score: \", district_grid_search.best_score_)"
   ]
  },
  {
   "cell_type": "markdown",
   "metadata": {},
   "source": [
    "##### Training of Final XGBoost Models"
   ]
  },
  {
   "cell_type": "code",
   "execution_count": null,
   "metadata": {},
   "outputs": [],
   "source": [
    "# Extract the best parameters from the grid search\n",
    "area_best_params = area_grid_search.best_params_\n",
    "\n",
    "# Create the final model with the best parameters\n",
    "area_final_xgb_model = XGBClassifier(**area_best_params)"
   ]
  },
  {
   "cell_type": "code",
   "execution_count": null,
   "metadata": {},
   "outputs": [],
   "source": [
    "# Train the final model with the selected features from the training data\n",
    "area_final_xgb_model.fit(xgb_area_feature_training_data, area_target_training_data.values.ravel())"
   ]
  },
  {
   "cell_type": "code",
   "execution_count": null,
   "metadata": {},
   "outputs": [],
   "source": [
    "# Evaluate the final model on the test data\n",
    "area_final_predictions = area_final_xgb_model.predict(xgb_area_feature_testing_data)\n",
    "area_final_accuracy = accuracy_score(area_target_testing_data, area_final_predictions)\n",
    "print(f\"Final Model Accuracy: {area_final_accuracy:.4f}\")"
   ]
  },
  {
   "cell_type": "code",
   "execution_count": null,
   "metadata": {},
   "outputs": [],
   "source": [
    "# Extract the best parameters from the grid search\n",
    "district_best_params = district_grid_search.best_params_\n",
    "\n",
    "# Create the final model with the best parameters\n",
    "district_final_xgb_model = XGBClassifier(**district_best_params)"
   ]
  },
  {
   "cell_type": "code",
   "execution_count": null,
   "metadata": {},
   "outputs": [],
   "source": [
    "# Train the final model with the selected features from the training data\n",
    "district_final_xgb_model.fit(xgb_district_feature_training_data, district_target_training_data.values.ravel())"
   ]
  },
  {
   "cell_type": "code",
   "execution_count": null,
   "metadata": {},
   "outputs": [],
   "source": [
    "# Evaluate the final model on the test data\n",
    "district_final_predictions = district_final_xgb_model.predict(xgb_district_feature_testing_data)\n",
    "district_final_accuracy = accuracy_score(district_target_testing_data, district_final_predictions)\n",
    "print(f\"Final Model Accuracy: {district_final_accuracy:.4f}\")"
   ]
  }
 ],
 "metadata": {
  "kernelspec": {
   "display_name": "ml_proj",
   "language": "python",
   "name": "ml_proj"
  }
 },
 "nbformat": 4,
 "nbformat_minor": 2
}
