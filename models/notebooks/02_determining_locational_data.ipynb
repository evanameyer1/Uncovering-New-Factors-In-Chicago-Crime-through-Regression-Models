{
 "cells": [
  {
   "cell_type": "code",
   "execution_count": 1,
   "metadata": {},
   "outputs": [],
   "source": [
    "import pandas as pd\n",
    "import os\n",
    "from shapely.geometry import Point, Polygon\n",
    "from shapely import geometry"
   ]
  },
  {
   "cell_type": "code",
   "execution_count": 2,
   "metadata": {},
   "outputs": [
    {
     "name": "stdout",
     "output_type": "stream",
     "text": [
      "clean_311 successfully read in\n",
      "clean_bike_stations successfully read in\n",
      "clean_bike_trips successfully read in\n",
      "clean_bus_stations successfully read in\n",
      "clean_crime successfully read in\n",
      "clean_cta_stations successfully read in\n",
      "clean_police_stations successfully read in\n"
     ]
    }
   ],
   "source": [
    "directory = '../../data/processed'\n",
    "void = ['clean_areas.csv', 'clean_disadvantaged_areas.csv', 'clean_police_districts.csv', 'clean_public_healthindicator.csv', 'clean_police_sentiment.csv', 'clean_ridership.csv']\n",
    "data = {}\n",
    "\n",
    "for filename in os.listdir(directory):\n",
    "    if filename not in void and filename.endswith('.csv'):\n",
    "        file_path = os.path.join(directory, filename)\n",
    "        data[filename[:-4]] = pd.read_csv(file_path)\n",
    "        print(f'{filename[:-4]} successfully read in')"
   ]
  },
  {
   "cell_type": "code",
   "execution_count": 3,
   "metadata": {},
   "outputs": [
    {
     "name": "stdout",
     "output_type": "stream",
     "text": [
      "clean_311 468201 Index(['date', 'id', 'type', 'lat', 'long'], dtype='object')\n",
      "clean_bike_stations 575 Index(['station', 'lat', 'long', 'id'], dtype='object')\n",
      "clean_bike_trips 37424072 Index(['date', 'station_id', 'station_name', 'lat', 'long', 'id'], dtype='object')\n",
      "clean_bus_stations 398 Index(['stop_id', 'cta_stop_name', 'lat', 'long'], dtype='object')\n",
      "clean_crime 7824317 Index(['id', 'date', 'type', 'lat', 'long'], dtype='object')\n",
      "clean_cta_stations 143 Index(['station_number', 'station_name', 'lat', 'long'], dtype='object')\n",
      "clean_police_stations 23 Index(['id', 'lat', 'long'], dtype='object')\n"
     ]
    }
   ],
   "source": [
    "for df_name, df in data.items():\n",
    "    print(df_name, len(df), df.columns)"
   ]
  },
  {
   "cell_type": "code",
   "execution_count": 4,
   "metadata": {},
   "outputs": [],
   "source": [
    "clean_police_districts = pd.read_csv('../../data/processed/clean_police_districts.csv')"
   ]
  },
  {
   "cell_type": "code",
   "execution_count": 5,
   "metadata": {},
   "outputs": [],
   "source": [
    "def parse_polygon(polygon_string):\n",
    "    points = polygon_string.strip('POLYGON ((').strip('))').split(', ')\n",
    "    points = [tuple(map(float, point.split())) for point in points]\n",
    "    return Polygon(points)"
   ]
  },
  {
   "cell_type": "code",
   "execution_count": 6,
   "metadata": {},
   "outputs": [],
   "source": [
    "clean_police_districts['geom'] = clean_police_districts['geom'].apply(parse_polygon)"
   ]
  },
  {
   "cell_type": "code",
   "execution_count": 7,
   "metadata": {},
   "outputs": [],
   "source": [
    "def determine_within(df):\n",
    "\n",
    "    statuses = []\n",
    "    districts = []\n",
    "    for i in range(len(df)):\n",
    "        point = geometry.Point(df.lat.loc[i], df.long.loc[i])\n",
    "        status = 0\n",
    "\n",
    "        for index, row in clean_police_districts.iterrows():\n",
    "            district = row['district']\n",
    "            geom = row['geom']\n",
    "            if (geom.contains(point)): \n",
    "                status = 1\n",
    "                break\n",
    "        statuses.append(status)\n",
    "        districts.append(district)\n",
    "\n",
    "    df['status'] = statuses\n",
    "    df['district'] = districts\n",
    "    df = df[df['status'] == 1].drop('status', axis=1)\n",
    "\n",
    "    return df"
   ]
  },
  {
   "cell_type": "code",
   "execution_count": 8,
   "metadata": {},
   "outputs": [],
   "source": [
    "def determine_districts(data):\n",
    "    for df_name, df in data.items():\n",
    "        data[df_name] = determine_within(df)\n",
    "        print(f'{df_name} successfully completed')\n",
    "    return data"
   ]
  },
  {
   "cell_type": "code",
   "execution_count": 9,
   "metadata": {},
   "outputs": [
    {
     "name": "stdout",
     "output_type": "stream",
     "text": [
      "clean_311 successfully completed\n",
      "clean_bike_stations successfully completed\n",
      "clean_bike_trips successfully completed\n",
      "clean_bus_stations successfully completed\n",
      "clean_crime successfully completed\n",
      "clean_cta_stations successfully completed\n",
      "clean_police_stations successfully completed\n"
     ]
    }
   ],
   "source": [
    "data = determine_districts(data)"
   ]
  },
  {
   "cell_type": "code",
   "execution_count": 13,
   "metadata": {},
   "outputs": [
    {
     "data": {
      "text/plain": [
       "8     521037\n",
       "11    501613\n",
       "6     457139\n",
       "7     448148\n",
       "4     446771\n",
       "25    442058\n",
       "3     397404\n",
       "12    389342\n",
       "9     388166\n",
       "2     365862\n",
       "19    353093\n",
       "18    350610\n",
       "5     344028\n",
       "10    336419\n",
       "15    330726\n",
       "1     322370\n",
       "14    301590\n",
       "16    256504\n",
       "22    254077\n",
       "24    230903\n",
       "17    226052\n",
       "20    139742\n",
       "31      1726\n",
       "Name: district, dtype: int64"
      ]
     },
     "execution_count": 13,
     "metadata": {},
     "output_type": "execute_result"
    }
   ],
   "source": [
    "data['clean_crime']['district'].value_counts()"
   ]
  },
  {
   "cell_type": "markdown",
   "metadata": {},
   "source": [
    "- Gather district geom data\n",
    "- Assign district to all locational data\n",
    "- Create a master dataset with all features\n",
    "    - based on crime dataset\n",
    "    - attach aggregated data from each other dataset based on time and district of each crime\n",
    "    - attach lag and leads of crime, bike, cta, and 311 data "
   ]
  },
  {
   "cell_type": "markdown",
   "metadata": {},
   "source": []
  }
 ],
 "metadata": {
  "kernelspec": {
   "display_name": "Python 3 (ipykernel)",
   "language": "python",
   "name": "python3"
  },
  "language_info": {
   "codemirror_mode": {
    "name": "ipython",
    "version": 3
   },
   "file_extension": ".py",
   "mimetype": "text/x-python",
   "name": "python",
   "nbconvert_exporter": "python",
   "pygments_lexer": "ipython3",
   "version": "3.9.13"
  }
 },
 "nbformat": 4,
 "nbformat_minor": 2
}
