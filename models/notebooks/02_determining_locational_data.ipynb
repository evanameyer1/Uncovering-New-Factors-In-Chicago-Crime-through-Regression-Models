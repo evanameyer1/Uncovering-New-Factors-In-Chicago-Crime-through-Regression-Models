{
 "cells": [
  {
   "cell_type": "code",
   "execution_count": 10,
   "metadata": {},
   "outputs": [],
   "source": [
    "import pandas as pd\n",
    "import os\n",
    "from shapely.geometry import Point, Polygon\n",
    "from shapely import geometry"
   ]
  },
  {
   "cell_type": "code",
   "execution_count": 14,
   "metadata": {},
   "outputs": [
    {
     "name": "stdout",
     "output_type": "stream",
     "text": [
      "clean_311 successfully read in\n",
      "clean_bike_stations successfully read in\n",
      "clean_bike_trips successfully read in\n",
      "clean_bus_stations successfully read in\n",
      "clean_crime successfully read in\n",
      "clean_cta_stations successfully read in\n",
      "clean_police_stations successfully read in\n",
      "clean_ridership successfully read in\n"
     ]
    }
   ],
   "source": [
    "directory = '../../data/processed'\n",
    "void = ['clean_areas.csv', 'clean_disadvantaged_areas.csv', 'clean_police_districts.csv', 'clean_public_healthindicator.csv', 'clean_police_sentiment.csv', 'clean_ridership.csv']\n",
    "data = {}\n",
    "\n",
    "for filename in os.listdir(directory):\n",
    "    if filename not in void and filename.endswith('.csv'):\n",
    "        file_path = os.path.join(directory, filename)\n",
    "        data[filename[:-4]] = pd.read_csv(file_path)\n",
    "        print(f'{filename[:-4]} successfully read in')"
   ]
  },
  {
   "cell_type": "code",
   "execution_count": 13,
   "metadata": {},
   "outputs": [
    {
     "name": "stdout",
     "output_type": "stream",
     "text": [
      "clean_311 468201 Index(['date', 'id', 'type', 'lat', 'long'], dtype='object')\n",
      "clean_bike_stations 575 Index(['station', 'lat', 'long', 'id'], dtype='object')\n",
      "clean_bike_trips 42485480 Index(['id', 'date', 'station_id', 'station_name'], dtype='object')\n",
      "clean_bus_stations 398 Index(['stop_id', 'cta_stop_name', 'lat', 'long'], dtype='object')\n",
      "clean_crime 7824317 Index(['id', 'date', 'type', 'lat', 'long'], dtype='object')\n",
      "clean_cta_stations 143 Index(['station_number', 'station_name', 'lat', 'long'], dtype='object')\n",
      "clean_police_sentiment 4899 Index(['district', 'sector', 'start_date', 'end_date', 'safety', 'trust',\n",
      "       't_listen', 't_respect', 's_race_african_american',\n",
      "       's_race_asian_american', 's_race_hispanic', 's_race_white', 's_age_low',\n",
      "       's_age_medium', 's_age_high', 's_sex_female', 's_sex_male',\n",
      "       's_education_low', 's_education_medium', 's_education_high',\n",
      "       's_income_low', 's_income_medium', 's_income_high'],\n",
      "      dtype='object')\n",
      "clean_police_stations 23 Index(['id', 'lat', 'long'], dtype='object')\n",
      "clean_ridership 107328 Index(['date', 'area', 'rides'], dtype='object')\n"
     ]
    }
   ],
   "source": [
    "for df_name, df in data.items():\n",
    "    print(df_name, len(df), df.columns)"
   ]
  },
  {
   "cell_type": "code",
   "execution_count": 4,
   "metadata": {},
   "outputs": [],
   "source": [
    "clean_police_districts = pd.read_csv('../../data/processed/clean_police_districts.csv')"
   ]
  },
  {
   "cell_type": "code",
   "execution_count": 5,
   "metadata": {},
   "outputs": [],
   "source": [
    "def parse_polygon(polygon_string):\n",
    "    points = polygon_string.strip('POLYGON ((').strip('))').split(', ')\n",
    "    points = [tuple(map(float, point.split())) for point in points]\n",
    "    return Polygon(points)"
   ]
  },
  {
   "cell_type": "code",
   "execution_count": 6,
   "metadata": {},
   "outputs": [],
   "source": [
    "clean_police_districts['geom'] = clean_police_districts['geom'].apply(parse_polygon)"
   ]
  },
  {
   "cell_type": "code",
   "execution_count": 7,
   "metadata": {},
   "outputs": [],
   "source": [
    "def determine_within(df):\n",
    "\n",
    "    statuses = []\n",
    "    districts = []\n",
    "    for i in range(len(df)):\n",
    "        point = geometry.Point(df.lat.loc[i], df.long.loc[i])\n",
    "        status = 0\n",
    "\n",
    "        for district in clean_police_districts['geom']:\n",
    "            if (district.contains(point)): \n",
    "                status = 1\n",
    "                break\n",
    "        statuses.append(status)\n",
    "        districts.append(district)\n",
    "\n",
    "    df['status'] = statuses\n",
    "    df['district'] = districts\n",
    "\n",
    "    return df[df['status'] == 1]"
   ]
  },
  {
   "cell_type": "code",
   "execution_count": 8,
   "metadata": {},
   "outputs": [],
   "source": [
    "def determine_districts(data):\n",
    "    for df_name, df in data.items():\n",
    "        data[df_name] = determine_within(df)\n",
    "        print(f'{df_name} successfully completed')\n",
    "    return data"
   ]
  },
  {
   "cell_type": "code",
   "execution_count": 9,
   "metadata": {},
   "outputs": [
    {
     "name": "stdout",
     "output_type": "stream",
     "text": [
      "clean_311 successfully completed\n",
      "clean_bike_stations successfully completed\n"
     ]
    },
    {
     "ename": "AttributeError",
     "evalue": "'DataFrame' object has no attribute 'lat'",
     "output_type": "error",
     "traceback": [
      "\u001b[1;31m---------------------------------------------------------------------------\u001b[0m",
      "\u001b[1;31mAttributeError\u001b[0m                            Traceback (most recent call last)",
      "\u001b[1;32m~\\AppData\\Local\\Temp\\ipykernel_16544\\1898890645.py\u001b[0m in \u001b[0;36m<module>\u001b[1;34m\u001b[0m\n\u001b[1;32m----> 1\u001b[1;33m \u001b[0mdata\u001b[0m \u001b[1;33m=\u001b[0m \u001b[0mdetermine_districts\u001b[0m\u001b[1;33m(\u001b[0m\u001b[0mdata\u001b[0m\u001b[1;33m)\u001b[0m\u001b[1;33m\u001b[0m\u001b[1;33m\u001b[0m\u001b[0m\n\u001b[0m",
      "\u001b[1;32m~\\AppData\\Local\\Temp\\ipykernel_16544\\114396114.py\u001b[0m in \u001b[0;36mdetermine_districts\u001b[1;34m(data)\u001b[0m\n\u001b[0;32m      1\u001b[0m \u001b[1;32mdef\u001b[0m \u001b[0mdetermine_districts\u001b[0m\u001b[1;33m(\u001b[0m\u001b[0mdata\u001b[0m\u001b[1;33m)\u001b[0m\u001b[1;33m:\u001b[0m\u001b[1;33m\u001b[0m\u001b[1;33m\u001b[0m\u001b[0m\n\u001b[0;32m      2\u001b[0m     \u001b[1;32mfor\u001b[0m \u001b[0mdf_name\u001b[0m\u001b[1;33m,\u001b[0m \u001b[0mdf\u001b[0m \u001b[1;32min\u001b[0m \u001b[0mdata\u001b[0m\u001b[1;33m.\u001b[0m\u001b[0mitems\u001b[0m\u001b[1;33m(\u001b[0m\u001b[1;33m)\u001b[0m\u001b[1;33m:\u001b[0m\u001b[1;33m\u001b[0m\u001b[1;33m\u001b[0m\u001b[0m\n\u001b[1;32m----> 3\u001b[1;33m         \u001b[0mdata\u001b[0m\u001b[1;33m[\u001b[0m\u001b[0mdf_name\u001b[0m\u001b[1;33m]\u001b[0m \u001b[1;33m=\u001b[0m \u001b[0mdetermine_within\u001b[0m\u001b[1;33m(\u001b[0m\u001b[0mdf\u001b[0m\u001b[1;33m)\u001b[0m\u001b[1;33m\u001b[0m\u001b[1;33m\u001b[0m\u001b[0m\n\u001b[0m\u001b[0;32m      4\u001b[0m         \u001b[0mprint\u001b[0m\u001b[1;33m(\u001b[0m\u001b[1;34mf'{df_name} successfully completed'\u001b[0m\u001b[1;33m)\u001b[0m\u001b[1;33m\u001b[0m\u001b[1;33m\u001b[0m\u001b[0m\n\u001b[0;32m      5\u001b[0m     \u001b[1;32mreturn\u001b[0m \u001b[0mdata\u001b[0m\u001b[1;33m\u001b[0m\u001b[1;33m\u001b[0m\u001b[0m\n",
      "\u001b[1;32m~\\AppData\\Local\\Temp\\ipykernel_16544\\546635525.py\u001b[0m in \u001b[0;36mdetermine_within\u001b[1;34m(df)\u001b[0m\n\u001b[0;32m      4\u001b[0m     \u001b[0mdistricts\u001b[0m \u001b[1;33m=\u001b[0m \u001b[1;33m[\u001b[0m\u001b[1;33m]\u001b[0m\u001b[1;33m\u001b[0m\u001b[1;33m\u001b[0m\u001b[0m\n\u001b[0;32m      5\u001b[0m     \u001b[1;32mfor\u001b[0m \u001b[0mi\u001b[0m \u001b[1;32min\u001b[0m \u001b[0mrange\u001b[0m\u001b[1;33m(\u001b[0m\u001b[0mlen\u001b[0m\u001b[1;33m(\u001b[0m\u001b[0mdf\u001b[0m\u001b[1;33m)\u001b[0m\u001b[1;33m)\u001b[0m\u001b[1;33m:\u001b[0m\u001b[1;33m\u001b[0m\u001b[1;33m\u001b[0m\u001b[0m\n\u001b[1;32m----> 6\u001b[1;33m         \u001b[0mpoint\u001b[0m \u001b[1;33m=\u001b[0m \u001b[0mgeometry\u001b[0m\u001b[1;33m.\u001b[0m\u001b[0mPoint\u001b[0m\u001b[1;33m(\u001b[0m\u001b[0mdf\u001b[0m\u001b[1;33m.\u001b[0m\u001b[0mlat\u001b[0m\u001b[1;33m.\u001b[0m\u001b[0mloc\u001b[0m\u001b[1;33m[\u001b[0m\u001b[0mi\u001b[0m\u001b[1;33m]\u001b[0m\u001b[1;33m,\u001b[0m \u001b[0mdf\u001b[0m\u001b[1;33m.\u001b[0m\u001b[0mlong\u001b[0m\u001b[1;33m.\u001b[0m\u001b[0mloc\u001b[0m\u001b[1;33m[\u001b[0m\u001b[0mi\u001b[0m\u001b[1;33m]\u001b[0m\u001b[1;33m)\u001b[0m\u001b[1;33m\u001b[0m\u001b[1;33m\u001b[0m\u001b[0m\n\u001b[0m\u001b[0;32m      7\u001b[0m         \u001b[0mstatus\u001b[0m \u001b[1;33m=\u001b[0m \u001b[1;36m0\u001b[0m\u001b[1;33m\u001b[0m\u001b[1;33m\u001b[0m\u001b[0m\n\u001b[0;32m      8\u001b[0m \u001b[1;33m\u001b[0m\u001b[0m\n",
      "\u001b[1;32m~\\anaconda3\\lib\\site-packages\\pandas\\core\\generic.py\u001b[0m in \u001b[0;36m__getattr__\u001b[1;34m(self, name)\u001b[0m\n\u001b[0;32m   5573\u001b[0m         ):\n\u001b[0;32m   5574\u001b[0m             \u001b[1;32mreturn\u001b[0m \u001b[0mself\u001b[0m\u001b[1;33m[\u001b[0m\u001b[0mname\u001b[0m\u001b[1;33m]\u001b[0m\u001b[1;33m\u001b[0m\u001b[1;33m\u001b[0m\u001b[0m\n\u001b[1;32m-> 5575\u001b[1;33m         \u001b[1;32mreturn\u001b[0m \u001b[0mobject\u001b[0m\u001b[1;33m.\u001b[0m\u001b[0m__getattribute__\u001b[0m\u001b[1;33m(\u001b[0m\u001b[0mself\u001b[0m\u001b[1;33m,\u001b[0m \u001b[0mname\u001b[0m\u001b[1;33m)\u001b[0m\u001b[1;33m\u001b[0m\u001b[1;33m\u001b[0m\u001b[0m\n\u001b[0m\u001b[0;32m   5576\u001b[0m \u001b[1;33m\u001b[0m\u001b[0m\n\u001b[0;32m   5577\u001b[0m     \u001b[1;32mdef\u001b[0m \u001b[0m__setattr__\u001b[0m\u001b[1;33m(\u001b[0m\u001b[0mself\u001b[0m\u001b[1;33m,\u001b[0m \u001b[0mname\u001b[0m\u001b[1;33m:\u001b[0m \u001b[0mstr\u001b[0m\u001b[1;33m,\u001b[0m \u001b[0mvalue\u001b[0m\u001b[1;33m)\u001b[0m \u001b[1;33m->\u001b[0m \u001b[1;32mNone\u001b[0m\u001b[1;33m:\u001b[0m\u001b[1;33m\u001b[0m\u001b[1;33m\u001b[0m\u001b[0m\n",
      "\u001b[1;31mAttributeError\u001b[0m: 'DataFrame' object has no attribute 'lat'"
     ]
    }
   ],
   "source": [
    "data = determine_districts(data)"
   ]
  },
  {
   "cell_type": "markdown",
   "metadata": {},
   "source": [
    "- Gather district geom data\n",
    "- Assign district to all locational data\n",
    "- Create a master dataset with all features\n",
    "    - based on crime dataset\n",
    "    - attach aggregated data from each other dataset based on time and district of each crime\n",
    "    - attach lag and leads of crime, bike, cta, and 311 data "
   ]
  },
  {
   "cell_type": "markdown",
   "metadata": {},
   "source": []
  }
 ],
 "metadata": {
  "kernelspec": {
   "display_name": "Python 3 (ipykernel)",
   "language": "python",
   "name": "python3"
  },
  "language_info": {
   "codemirror_mode": {
    "name": "ipython",
    "version": 3
   },
   "file_extension": ".py",
   "mimetype": "text/x-python",
   "name": "python",
   "nbconvert_exporter": "python",
   "pygments_lexer": "ipython3",
   "version": "3.9.13"
  }
 },
 "nbformat": 4,
 "nbformat_minor": 2
}
